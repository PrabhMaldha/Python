{
  "nbformat": 4,
  "nbformat_minor": 0,
  "metadata": {
    "colab": {
      "provenance": []
    },
    "kernelspec": {
      "name": "python3",
      "display_name": "Python 3"
    },
    "language_info": {
      "name": "python"
    }
  },
  "cells": [
    {
      "cell_type": "code",
      "execution_count": null,
      "metadata": {
        "colab": {
          "base_uri": "https://localhost:8080/"
        },
        "id": "v3-jT-tJAA7u",
        "outputId": "331f2dcf-b67b-4ae5-fc23-1b343db60ccd"
      },
      "outputs": [
        {
          "output_type": "stream",
          "name": "stdout",
          "text": [
            "Enter Your Age: 29\n",
            "You are an adult\n"
          ]
        }
      ],
      "source": [
        "age=int(input(\"Enter Your Age: \"))\n",
        "if age>=18 :\n",
        "  print(\"You are an adult\")\n",
        "else:\n",
        "  print(\"you are minor\")"
      ]
    },
    {
      "cell_type": "code",
      "source": [
        "temperature=int(input(\"enter temperature: \"))\n",
        "if temperature<0 :\n",
        "  print(\" its Freezing\")\n",
        "else:\n",
        "  print(\"its not freezing\")"
      ],
      "metadata": {
        "colab": {
          "base_uri": "https://localhost:8080/"
        },
        "id": "ZcL_Y0FSAXkt",
        "outputId": "721612c8-ac0c-452d-dd83-190056a7072f"
      },
      "execution_count": null,
      "outputs": [
        {
          "output_type": "stream",
          "name": "stdout",
          "text": [
            "enter temperature: 26\n",
            "its not freezing\n"
          ]
        }
      ]
    },
    {
      "cell_type": "code",
      "source": [
        "score =int(input(\"enter your score : \"))\n",
        "if score > 90 :\n",
        "  print( \" A grade\")\n",
        "elif score <90 and score>80 :\n",
        "    print( \"B grade\")\n",
        "else:\n",
        "  print(\"C Grade\")"
      ],
      "metadata": {
        "colab": {
          "base_uri": "https://localhost:8080/"
        },
        "id": "XDJpmXM8A6wW",
        "outputId": "05b21210-ce7a-42bf-a1e5-d2db03928c22"
      },
      "execution_count": null,
      "outputs": [
        {
          "output_type": "stream",
          "name": "stdout",
          "text": [
            "enter your score : 78\n",
            "C Grade\n"
          ]
        }
      ]
    },
    {
      "cell_type": "code",
      "source": [
        "a= int(input(\" enter number a : \"))\n",
        "b= int(input(\" enter number  b: \"))\n",
        "if a==b :\n",
        "  print(\" a is equal to b\")\n",
        "else :\n",
        "  print(\"a is not equal to b\")"
      ],
      "metadata": {
        "colab": {
          "base_uri": "https://localhost:8080/"
        },
        "id": "Zs3hdTuiCEj7",
        "outputId": "83875e90-65ed-4ff4-b248-132e30fb07bb"
      },
      "execution_count": null,
      "outputs": [
        {
          "output_type": "stream",
          "name": "stdout",
          "text": [
            " enter number a : 12\n",
            " enter number  b: 34\n",
            "a is not equal to b\n"
          ]
        }
      ]
    },
    {
      "cell_type": "code",
      "source": [
        "number = int(input(\" enter any number : \"))\n",
        "if number % 2==0 :\n",
        "  print( \" even number\")\n",
        "else :\n",
        "  print(\" odd number\")"
      ],
      "metadata": {
        "colab": {
          "base_uri": "https://localhost:8080/"
        },
        "id": "4o1RXiLeC6Wj",
        "outputId": "43d7cc69-f4fc-4939-de99-a41a1046f309"
      },
      "execution_count": null,
      "outputs": [
        {
          "output_type": "stream",
          "name": "stdout",
          "text": [
            " enter any number : 24\n",
            " even number\n"
          ]
        }
      ]
    },
    {
      "cell_type": "code",
      "source": [
        "day = str(input( \"enter day : \" ))\n",
        "if day ==[\"Sunday\",\"sunday\",\"Saturdar\",\"saturday\"] :\n",
        "  print(\" Weekend\")\n",
        "else :\n",
        "  print(\" Weekday\")"
      ],
      "metadata": {
        "id": "kdh1AoI_Dd06"
      },
      "execution_count": null,
      "outputs": []
    },
    {
      "cell_type": "code",
      "source": [
        "2marks = int(input(\" enter marks :\"))\n",
        "if marks > 75 :\n",
        "  print(\"Distinction\")\n",
        "elif marks >= 50 and marks <75 :\n",
        "  print( \" pass\")\n",
        "else :\n",
        "  print(\" fail\")\n"
      ],
      "metadata": {
        "colab": {
          "base_uri": "https://localhost:8080/"
        },
        "id": "rsF0Y8y-EEG2",
        "outputId": "7db23c8d-dc63-4649-e332-813e7a85288e"
      },
      "execution_count": null,
      "outputs": [
        {
          "output_type": "stream",
          "name": "stdout",
          "text": [
            " enter marks :78\n",
            "Distinction\n"
          ]
        }
      ]
    },
    {
      "cell_type": "code",
      "source": [
        "speed = int(input( \"enter speed : \"))\n",
        "if speed> 120 :\n",
        "  print(\"over speed limit\")\n",
        "else :\n",
        "  print(\"within speed limit\")"
      ],
      "metadata": {
        "colab": {
          "base_uri": "https://localhost:8080/"
        },
        "id": "2FV-TI9bE0LQ",
        "outputId": "a0f08374-6916-40eb-ad86-5a15ab6708af"
      },
      "execution_count": null,
      "outputs": [
        {
          "output_type": "stream",
          "name": "stdout",
          "text": [
            "enter speed : 230\n",
            "over speed limit\n"
          ]
        }
      ]
    },
    {
      "cell_type": "code",
      "source": [
        "year=int(input(\" enter year :\"))\n",
        "if year % 4==0 :\n",
        "  print(\"leap year\")\n",
        "else :\n",
        "  print(\"not leap year\")"
      ],
      "metadata": {
        "colab": {
          "base_uri": "https://localhost:8080/"
        },
        "id": "LjbOr32yF_Oa",
        "outputId": "c4062091-662c-4a6c-a5be-8a2746c2e364"
      },
      "execution_count": null,
      "outputs": [
        {
          "output_type": "stream",
          "name": "stdout",
          "text": [
            " enter year :2024\n",
            "leap year\n"
          ]
        }
      ]
    },
    {
      "cell_type": "code",
      "source": [
        "char =(input(\" Enter Character :\"))\n",
        "char.lower()\n",
        "if char==\"a\" or char==\"e\" or char==\"i\" or char==\"o\" or char==\"u\" :\n",
        "  print(\"vowel\")\n",
        "else :\n",
        "  print(\"consonant\")"
      ],
      "metadata": {
        "colab": {
          "base_uri": "https://localhost:8080/"
        },
        "id": "CguxfvL2QecO",
        "outputId": "517c3d05-e0df-4ef4-b130-2ad1fac9073a"
      },
      "execution_count": null,
      "outputs": [
        {
          "output_type": "stream",
          "name": "stdout",
          "text": [
            " Enter Character :p\n",
            "consonant\n"
          ]
        }
      ]
    },
    {
      "cell_type": "code",
      "source": [
        "x = int(input(\" enter x : \"))\n",
        "y= int(input(\" enter y :\"))\n",
        "if x>0 and y>0 :\n",
        "  print( \" positive no.\")\n",
        "else :\n",
        "  print(\" atleast one is positive\")"
      ],
      "metadata": {
        "colab": {
          "base_uri": "https://localhost:8080/"
        },
        "id": "pXBtRd0sGc6c",
        "outputId": "310c40ad-33cf-4bc1-ec78-2ece946365a4"
      },
      "execution_count": null,
      "outputs": [
        {
          "output_type": "stream",
          "name": "stdout",
          "text": [
            " enter x : 12\n",
            " enter y :13\n",
            " positive no.\n"
          ]
        }
      ]
    },
    {
      "cell_type": "code",
      "source": [
        "time = float(input(\" enter time : \"))\n",
        "if time >6 and time <12 :\n",
        "  print( \" good morning\")\n",
        "elif time > 12 and time<18:\n",
        "  print(\"good afternoon\")\n",
        "else :\n",
        "  print(\"good night\")"
      ],
      "metadata": {
        "colab": {
          "base_uri": "https://localhost:8080/"
        },
        "id": "MWS6QUaXHi-E",
        "outputId": "4fc97e11-128e-418d-ec28-6182b2664552"
      },
      "execution_count": null,
      "outputs": [
        {
          "output_type": "stream",
          "name": "stdout",
          "text": [
            " enter time : 12.30\n",
            "good afternoon\n"
          ]
        }
      ]
    },
    {
      "cell_type": "code",
      "source": [
        "budget = int(input(\" enter budget : \"))\n",
        "price = int(input(\" enter price : \"))\n",
        "if budget >= price :\n",
        "  print(\" purchase possible\")\n",
        "else :\n",
        "  print(\" not possible\")"
      ],
      "metadata": {
        "colab": {
          "base_uri": "https://localhost:8080/"
        },
        "id": "ejEJbK14IUG2",
        "outputId": "1e0cf764-f372-40bd-f91b-8a9ce3d6dc5f"
      },
      "execution_count": null,
      "outputs": [
        {
          "output_type": "stream",
          "name": "stdout",
          "text": [
            " enter budget : 1200\n",
            " enter price : 1100\n",
            " purchase possible\n"
          ]
        }
      ]
    },
    {
      "cell_type": "code",
      "source": [
        "username=str(input(\" enter username :\"))\n",
        "if username==\" \" :\n",
        "  print(\"invalid username\")\n",
        "else :\n",
        "  print(\"valid username\")"
      ],
      "metadata": {
        "colab": {
          "base_uri": "https://localhost:8080/"
        },
        "id": "posTDAccJeEz",
        "outputId": "9f00664b-dc37-44a8-c59a-3477a8be22d9"
      },
      "execution_count": null,
      "outputs": [
        {
          "output_type": "stream",
          "name": "stdout",
          "text": [
            " enter username :prabhjot\n",
            "valid username\n"
          ]
        }
      ]
    },
    {
      "cell_type": "code",
      "source": [
        "height=int(input(\" enter height : \"))\n",
        "weight = int(input(\" enter weight \"))\n",
        "bmi= float(weight/height)\n",
        "print(bmi)\n",
        "if bmi < 18.5 :\n",
        "  print( \" under weight\")\n",
        "elif bmi >18.5 and bmi <24.9:\n",
        "  print(\"normal weight\")\n",
        "else:\n",
        "  print ( \"overweight\")"
      ],
      "metadata": {
        "colab": {
          "base_uri": "https://localhost:8080/"
        },
        "id": "mzAL1ua2J4so",
        "outputId": "a69c7730-5b81-4986-8791-fa8b7794daa7"
      },
      "execution_count": null,
      "outputs": [
        {
          "output_type": "stream",
          "name": "stdout",
          "text": [
            " enter height : 157\n",
            " enter weight 47\n",
            "0.29936305732484075\n",
            " under weight\n"
          ]
        }
      ]
    },
    {
      "cell_type": "code",
      "source": [
        "password=input(\" enter password : \")\n",
        "if len(password)>=8 :\n",
        "  print(\"valid password\")\n",
        "else :\n",
        "  print(\"invalid password\")\n"
      ],
      "metadata": {
        "colab": {
          "base_uri": "https://localhost:8080/"
        },
        "id": "BzIJJ5uBLHbN",
        "outputId": "3b98e3e2-c063-49bd-edd7-e0b7161f5145"
      },
      "execution_count": null,
      "outputs": [
        {
          "output_type": "stream",
          "name": "stdout",
          "text": [
            " enter password : prabhjot\n",
            "valid password\n"
          ]
        }
      ]
    },
    {
      "cell_type": "code",
      "source": [
        "grade=input(\" enter grade : \")\n",
        "if grade==\"A\" :\n",
        "  print(\"excellent\")\n",
        "elif grade==\"B\" :\n",
        "  print(\"good\")\n",
        "elif grade==\"C\" :\n",
        "  print(\"average\")\n",
        "elif grade== \"D\" :\n",
        "  print (\" Poor\")"
      ],
      "metadata": {
        "colab": {
          "base_uri": "https://localhost:8080/"
        },
        "id": "OzvtG--ZLnkj",
        "outputId": "52fb4e4d-757f-4849-b391-b7d770aa2a84"
      },
      "execution_count": null,
      "outputs": [
        {
          "output_type": "stream",
          "name": "stdout",
          "text": [
            " enter grade : A\n",
            "excellent\n"
          ]
        }
      ]
    },
    {
      "cell_type": "code",
      "source": [
        "month= str(input(\" enter month : \"))\n",
        "if month==\"December\" or month==\" January\" or month ==\" Feburary\" :\n",
        "  print(\"Winter\")\n",
        "elif month==\"June\" or month==\"july\" or month==\"August\" :\n",
        "  print(\"Summer\")\n",
        "else :\n",
        "  print(\" other season\")"
      ],
      "metadata": {
        "colab": {
          "base_uri": "https://localhost:8080/"
        },
        "id": "Y8ED30gAM2sf",
        "outputId": "2d8882b8-a4fc-418a-9829-3f0e24985558"
      },
      "execution_count": null,
      "outputs": [
        {
          "output_type": "stream",
          "name": "stdout",
          "text": [
            " enter month : March\n",
            " other season\n"
          ]
        }
      ]
    },
    {
      "cell_type": "code",
      "source": [
        "balance = int(input(\" enter balance : \"))\n",
        "if balance>=1000 :\n",
        "  print(\"Sufficient Balance\")\n",
        "else :\n",
        "  print(\" insufficient balance\")\n"
      ],
      "metadata": {
        "colab": {
          "base_uri": "https://localhost:8080/"
        },
        "id": "py1qtrxmNqry",
        "outputId": "a6f9cfc3-36f5-4277-a004-6fc2475b65d5"
      },
      "execution_count": null,
      "outputs": [
        {
          "output_type": "stream",
          "name": "stdout",
          "text": [
            " enter balance : 120000\n",
            "Sufficient Balance\n"
          ]
        }
      ]
    },
    {
      "cell_type": "code",
      "source": [
        "number = int(input(\" enter number : \"))\n",
        "if number<0 :\n",
        "  print(\"negative number\")\n",
        "elif number>0:\n",
        "  print(\"Positive number\")\n",
        "else :\n",
        "  print(\"zero\")"
      ],
      "metadata": {
        "colab": {
          "base_uri": "https://localhost:8080/"
        },
        "id": "esMCz3xXOVTZ",
        "outputId": "54a20584-be5f-4dac-d6f4-c788fbb7e484"
      },
      "execution_count": null,
      "outputs": [
        {
          "output_type": "stream",
          "name": "stdout",
          "text": [
            " enter number : 12\n",
            "Positive number\n"
          ]
        }
      ]
    },
    {
      "cell_type": "code",
      "source": [
        "ticket_type=str(input(\" enter ticket type : \"))\n",
        "if ticket_type==\"VIP\":\n",
        "  print(\"Access to VIP Lounge\")\n",
        "else :\n",
        "  print()"
      ],
      "metadata": {
        "id": "Q9XxSlv0REMj",
        "colab": {
          "base_uri": "https://localhost:8080/"
        },
        "outputId": "dd6447aa-dfb4-48fa-94a0-6b1b8d20d87a"
      },
      "execution_count": null,
      "outputs": [
        {
          "output_type": "stream",
          "name": "stdout",
          "text": [
            " enter ticket type : VIP\n",
            "Access to VIP Lounge\n"
          ]
        }
      ]
    },
    {
      "cell_type": "code",
      "source": [
        "age=int(input(\" enter age : \"))\n",
        "if age >=65 :\n",
        "  print(\"Eligible for senior citizen\")"
      ],
      "metadata": {
        "colab": {
          "base_uri": "https://localhost:8080/"
        },
        "id": "cDF0dyh6Ov3T",
        "outputId": "58a57b16-8b3a-4e78-a8b3-5058ad6e3020"
      },
      "execution_count": null,
      "outputs": [
        {
          "output_type": "stream",
          "name": "stdout",
          "text": [
            " enter age : 67\n",
            "Eligible for senior citizen\n"
          ]
        }
      ]
    },
    {
      "cell_type": "code",
      "source": [
        "color = str(input(\" enter color : \"))\n",
        "if color  ==\"Red\" :\n",
        "  print(\" Stop\")\n",
        "elif color==\"Green\" :\n",
        "  print(\"Go\")\n",
        "elif color==\"Yellow\" :\n",
        "  print(\"Wait\")"
      ],
      "metadata": {
        "colab": {
          "base_uri": "https://localhost:8080/"
        },
        "id": "snqrIvmqPMkk",
        "outputId": "9f1e38ba-99ba-4b84-8344-8215f3f8e3d9"
      },
      "execution_count": null,
      "outputs": [
        {
          "output_type": "stream",
          "name": "stdout",
          "text": [
            " enter color : Green\n",
            "Go\n"
          ]
        }
      ]
    },
    {
      "cell_type": "code",
      "source": [
        "temperature = int(input( \" enter temperature : \"))\n",
        "if temperature >100 :\n",
        "  print( \" Above Boiling point\")\n",
        "else :\n",
        "  print( \" below boiling point\")"
      ],
      "metadata": {
        "colab": {
          "base_uri": "https://localhost:8080/"
        },
        "id": "8Qiv3gP2PmY8",
        "outputId": "f5947644-0123-4d44-8a3d-c34e15a030df"
      },
      "execution_count": null,
      "outputs": [
        {
          "output_type": "stream",
          "name": "stdout",
          "text": [
            " enter temperature : 25\n",
            " below boiling point\n"
          ]
        }
      ]
    },
    {
      "cell_type": "code",
      "source": [
        "loanammount = int(input( \"enter amount :\" ))\n",
        "if loanammount > 50000 :\n",
        "  print( \"Approval requires High Authority\")\n",
        "else :\n",
        "  print(\"loan Approved\")"
      ],
      "metadata": {
        "colab": {
          "base_uri": "https://localhost:8080/"
        },
        "id": "_iaNl-8_QJO1",
        "outputId": "15997872-de1d-41d4-e378-64a21b7b78af"
      },
      "execution_count": null,
      "outputs": [
        {
          "output_type": "stream",
          "name": "stdout",
          "text": [
            "enter amount :70000000\n",
            "Approval requires High Authority\n"
          ]
        }
      ]
    },
    {
      "cell_type": "code",
      "source": [
        "attendance= int(input(\" enter attendance : \"))\n",
        "if attendance >= 75 :\n",
        "  print ( \" Eligible to Appear in Exam\")\n",
        "else :\n",
        "  print(\" not eligible\")\n"
      ],
      "metadata": {
        "colab": {
          "base_uri": "https://localhost:8080/"
        },
        "id": "PEqGBT-cQm1u",
        "outputId": "641a4a38-f8de-4aa3-9cf1-3353695a4e3d"
      },
      "execution_count": null,
      "outputs": [
        {
          "output_type": "stream",
          "name": "stdout",
          "text": [
            " enter attendance : 70\n",
            " not eligible\n"
          ]
        }
      ]
    },
    {
      "cell_type": "code",
      "source": [
        "membershipstatus=str(input(\"enter status : \"))\n",
        "if membershipstatus==\"Gold\" :\n",
        "  print(\"Premium member\")\n",
        "elif membershipstatus==\"Silver\" :\n",
        "  print(\"Regular member\")\n",
        "elif membershipstatus==\"Bronze\" :\n",
        "  print(\"Basic member\")"
      ],
      "metadata": {
        "colab": {
          "base_uri": "https://localhost:8080/"
        },
        "id": "Mbc3q_w2RK4k",
        "outputId": "4b8adaf5-2a0b-452a-a9f0-3d4f304bdbfb"
      },
      "execution_count": null,
      "outputs": [
        {
          "output_type": "stream",
          "name": "stdout",
          "text": [
            "enter status : Gold\n",
            "Premium member\n"
          ]
        }
      ]
    },
    {
      "cell_type": "code",
      "source": [
        "age=int(input(\" enter age : \"))\n",
        "if age > 13 and age <19 :\n",
        "  print ( \" Teenager\")\n",
        "else :\n",
        "  print(\" Not a teenager\")"
      ],
      "metadata": {
        "colab": {
          "base_uri": "https://localhost:8080/"
        },
        "id": "kWbrM6lQSESg",
        "outputId": "437c9532-cd13-471f-e117-e00170d7934c"
      },
      "execution_count": null,
      "outputs": [
        {
          "output_type": "stream",
          "name": "stdout",
          "text": [
            " enter age : 15\n",
            " Teenager\n"
          ]
        }
      ]
    },
    {
      "cell_type": "code",
      "source": [
        "income=int(input(\"Enter income : \"))\n",
        "if income > 100000 :\n",
        "  print(\" high Income\")\n",
        "elif income >50000 and income<100000 :\n",
        "  print(\"middle income\")\n",
        "elif income <50000 :\n",
        "  print(\" low income\")"
      ],
      "metadata": {
        "colab": {
          "base_uri": "https://localhost:8080/"
        },
        "id": "xqxbshNvShKz",
        "outputId": "3bc75a64-47d4-448a-b2c4-e6a26954d03e"
      },
      "execution_count": null,
      "outputs": [
        {
          "output_type": "stream",
          "name": "stdout",
          "text": [
            "Enter income : 6000000\n",
            " high Income\n"
          ]
        }
      ]
    },
    {
      "cell_type": "code",
      "source": [
        "fuel_level=int(input(\"enter fuel level : \"))\n",
        "if fuel_level < 10:\n",
        "  print(\"Low Fuel Warning\")\n",
        "else :\n",
        "  print(\"Fuel is sufficient\")"
      ],
      "metadata": {
        "id": "2HhrLa9VTfQ6"
      },
      "execution_count": null,
      "outputs": []
    },
    {
      "cell_type": "code",
      "source": [],
      "metadata": {
        "id": "AM2YuGXWUFGn"
      },
      "execution_count": null,
      "outputs": []
    }
  ]
}