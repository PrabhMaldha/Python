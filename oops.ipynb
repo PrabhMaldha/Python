{
  "nbformat": 4,
  "nbformat_minor": 0,
  "metadata": {
    "colab": {
      "provenance": []
    },
    "kernelspec": {
      "name": "python3",
      "display_name": "Python 3"
    },
    "language_info": {
      "name": "python"
    }
  },
  "cells": [
    {
      "cell_type": "code",
      "execution_count": 1,
      "metadata": {
        "colab": {
          "base_uri": "https://localhost:8080/"
        },
        "id": "zhgX-3pXl0XO",
        "outputId": "5d6d182f-debd-4e5c-a717-f5f270afeab6"
      },
      "outputs": [
        {
          "output_type": "stream",
          "name": "stdout",
          "text": [
            "Oly\n",
            "white\n",
            "Brown\n"
          ]
        }
      ],
      "source": [
        "class animal :\n",
        "  def __init__(self,name,color) :\n",
        "    self.name=name\n",
        "    self.color=color\n",
        "cat=animal(\"Oly\",\"white\") #objects\n",
        "dog=animal(\"Jack\",\"Brown\")\n",
        "print(cat.name)\n",
        "print(cat.color)\n",
        "print(dog.color)"
      ]
    },
    {
      "cell_type": "code",
      "source": [
        "class vehicle :\n",
        "  def __init__(self,name,color,model) :\n",
        "    self.name=name\n",
        "    self.color=color\n",
        "    self.model=model\n",
        "car=vehicle(\"Audi\",\"Black\",\"latest\")\n",
        "ship=vehicle(\"S7\",\"white\",\"3B2\")\n",
        "print(car.name)\n",
        "print(car.color)\n",
        "print(ship.model)"
      ],
      "metadata": {
        "colab": {
          "base_uri": "https://localhost:8080/"
        },
        "id": "Y2T7vLqQmNvw",
        "outputId": "e62d5d7d-47f1-48f9-cf56-dca020b7a8c1"
      },
      "execution_count": 2,
      "outputs": [
        {
          "output_type": "stream",
          "name": "stdout",
          "text": [
            "Audi\n",
            "Black\n",
            "3B2\n"
          ]
        }
      ]
    },
    {
      "cell_type": "code",
      "source": [
        "class details:\n",
        "  def __init__(self,name,age,Salary):\n",
        "    self.name=name\n",
        "    self.age=age\n",
        "    self.Salary=Salary\n",
        "person1=details(\"Ram\",19,10000)\n",
        "person2=details(\"Riya\",20,20000)\n",
        "print(person1.name)\n",
        "print(person1.age)\n",
        "print(person2.Salary)"
      ],
      "metadata": {
        "colab": {
          "base_uri": "https://localhost:8080/"
        },
        "id": "NwLff4tjoOUF",
        "outputId": "c6ef195a-9291-41a6-beb0-cfb5470fc0cd"
      },
      "execution_count": 3,
      "outputs": [
        {
          "output_type": "stream",
          "name": "stdout",
          "text": [
            "Ram\n",
            "19\n",
            "20000\n"
          ]
        }
      ]
    },
    {
      "cell_type": "code",
      "source": [
        "class animal :\n",
        "  def speak(self) :\n",
        "    print(\"animal speaks\")\n",
        "dog=animal()\n",
        "print(\"dog barks\")\n",
        "dog.speak()"
      ],
      "metadata": {
        "colab": {
          "base_uri": "https://localhost:8080/"
        },
        "id": "2N7sxZi9pa4h",
        "outputId": "c327aec3-f2d6-4cbe-ea9a-dcf9dcf85dc2"
      },
      "execution_count": 4,
      "outputs": [
        {
          "output_type": "stream",
          "name": "stdout",
          "text": [
            "dog barks\n",
            "animal speaks\n"
          ]
        }
      ]
    },
    {
      "cell_type": "code",
      "source": [
        "class vehicle :\n",
        "  distance_travelled= 120 #class variable\n",
        "  def __init__(self,name,color) :  # name,color...are instance variables\n",
        "    self.name=name\n",
        "    self.color=color\n",
        "  def moves (self) :\n",
        "    print(\"vehicle moves\")\n",
        "ship=vehicle(\"H7\",\"white\")\n",
        "print(\"ship sails\")\n",
        "ship.moves()\n",
        "print(ship.name)\n",
        "car=vehicle(\"BMW\",\"Black\")\n",
        "print(\"car drives\")\n",
        "car.moves()\n",
        "print(car.name)\n",
        "aeroplane=vehicle(\"A7\",\"White\")\n",
        "print(\"aeroplane flies\")\n",
        "aeroplane.moves()\n",
        "print(aeroplane.name)\n",
        "print(car.distance_travelled)\n",
        "print(ship.distance_travelled)\n",
        "print(aeroplane.distance_travelled)"
      ],
      "metadata": {
        "colab": {
          "base_uri": "https://localhost:8080/"
        },
        "id": "suE2sKn-rFG1",
        "outputId": "a578a40e-a591-4494-a2e0-07a7dcd3770a"
      },
      "execution_count": 5,
      "outputs": [
        {
          "output_type": "stream",
          "name": "stdout",
          "text": [
            "ship sails\n",
            "vehicle moves\n",
            "H7\n",
            "car drives\n",
            "vehicle moves\n",
            "BMW\n",
            "aeroplane flies\n",
            "vehicle moves\n",
            "A7\n",
            "120\n",
            "120\n",
            "120\n"
          ]
        }
      ]
    },
    {
      "cell_type": "code",
      "source": [
        "class employee :\n",
        "  department=\"Accounts\"\n",
        "  def __init__(self,ID,Name,Age,Salary) :\n",
        "    self.ID=ID\n",
        "    self.Name=Name\n",
        "    self.Age=Age\n",
        "    self.Salary=Salary\n",
        "  def display_details(self) :\n",
        "    print(f\"ID no. is {self.ID} of {self.Name} having {self.Salary}\")\n",
        "E1=employee(101,\"Rohan\",21,23000)\n",
        "E2=employee(102,\"Riya\",22,15000)\n",
        "E3=employee(103,\"Siya\",28,31000)\n",
        "print(E1.Name)\n",
        "print(E1.ID)\n",
        "print(E1.Salary)\n",
        "E1.display_details()\n",
        "print(E2.Name)\n",
        "print(E2.ID)\n",
        "print(E2.Salary)\n",
        "E2.display_details()\n",
        "print(E3.Name)\n",
        "print(E3.ID)\n",
        "print(E3.Salary)\n",
        "E3.display_details()"
      ],
      "metadata": {
        "colab": {
          "base_uri": "https://localhost:8080/"
        },
        "id": "eG1Js5k5sih0",
        "outputId": "e6475fc2-58a5-46cc-c8bd-4d012617c344"
      },
      "execution_count": 6,
      "outputs": [
        {
          "output_type": "stream",
          "name": "stdout",
          "text": [
            "Rohan\n",
            "101\n",
            "23000\n",
            "ID no. is 101 of Rohan having 23000\n",
            "Riya\n",
            "102\n",
            "15000\n",
            "ID no. is 102 of Riya having 15000\n",
            "Siya\n",
            "103\n",
            "31000\n",
            "ID no. is 103 of Siya having 31000\n"
          ]
        }
      ]
    },
    {
      "cell_type": "code",
      "source": [
        "class square :\n",
        "  def __init__(self,side) :\n",
        "    self.side=side\n",
        "  def area(self):\n",
        "    print(f\"area is {self.side**2}\")\n",
        "  def perimeter(self) :\n",
        "    print(f\"perimeter is {4*self.side}\")\n",
        "s1=square(4)\n",
        "s2=square(3)\n",
        "s1.area()\n",
        "s2.perimeter()"
      ],
      "metadata": {
        "colab": {
          "base_uri": "https://localhost:8080/"
        },
        "id": "yyg0PvHH072v",
        "outputId": "2f7135ad-c0a8-444e-88c7-c7a57986f90a"
      },
      "execution_count": 7,
      "outputs": [
        {
          "output_type": "stream",
          "name": "stdout",
          "text": [
            "area is 16\n",
            "perimeter is 12\n"
          ]
        }
      ]
    },
    {
      "cell_type": "code",
      "source": [
        "class rectangle :\n",
        "  def __init__(self,length,breadth) :\n",
        "    self.length=length\n",
        "    self.breadth=breadth\n",
        "  def area(self):\n",
        "    print(f\" area is {self.length*self.breadth}\")\n",
        "  def perimeter(self):\n",
        "    print(f\"perimeter is {2*(self.length+self.breadth)}\")\n",
        "r1=rectangle(2,4)\n",
        "r1.area()\n",
        "r1.perimeter()"
      ],
      "metadata": {
        "colab": {
          "base_uri": "https://localhost:8080/"
        },
        "id": "JzTDWU5a4klQ",
        "outputId": "63470bf5-3634-4e8a-e984-862b1bb1bab9"
      },
      "execution_count": 8,
      "outputs": [
        {
          "output_type": "stream",
          "name": "stdout",
          "text": [
            " area is 8\n",
            "perimeter is 12\n"
          ]
        }
      ]
    },
    {
      "cell_type": "code",
      "source": [
        "import math\n",
        "class circle :\n",
        "  def __init__(self,radius) :\n",
        "    self.radius=radius\n",
        "  def area(self):\n",
        "    print(f\"area is {math.pi*(self.radius**2)}\")\n",
        "  def perimeter(self):\n",
        "    print(f\"perimeter is {2*math.pi*(self.radius)}\")\n",
        "c1=circle(6)\n",
        "c1.area()\n",
        "c1.perimeter()"
      ],
      "metadata": {
        "colab": {
          "base_uri": "https://localhost:8080/"
        },
        "id": "cfz113nW6JJE",
        "outputId": "6fdefee0-b114-4b82-c6e7-fd5f36bea495"
      },
      "execution_count": 9,
      "outputs": [
        {
          "output_type": "stream",
          "name": "stdout",
          "text": [
            "area is 113.09733552923255\n",
            "perimeter is 37.69911184307752\n"
          ]
        }
      ]
    },
    {
      "cell_type": "code",
      "source": [
        "# single inheritance\n",
        "class operations :\n",
        "  def __init__(self,a,b) :\n",
        "    self.a=a\n",
        "    self.b=b\n",
        "class arithmetic(operations) :\n",
        "  def sum(self) :\n",
        "    return self.a + self.b\n",
        "  def sub(self):\n",
        "    return self.a - self.b\n",
        "\n",
        "obj = arithmetic(10,2)\n",
        "print(obj.sum())\n",
        "print(obj.sub())"
      ],
      "metadata": {
        "id": "s75ooB0V7Pgs",
        "colab": {
          "base_uri": "https://localhost:8080/"
        },
        "outputId": "e8926ab5-73b4-42b9-bdd9-2573b24f87fa"
      },
      "execution_count": 10,
      "outputs": [
        {
          "output_type": "stream",
          "name": "stdout",
          "text": [
            "12\n",
            "8\n"
          ]
        }
      ]
    },
    {
      "cell_type": "code",
      "source": [
        "#Multiple inheritance\n",
        "class InputHandler :#First parent\n",
        "  def __init__(self,a,b) :\n",
        "    self.a=a\n",
        "    self.b=b\n",
        "class Operations :#second parent\n",
        "  def add(self,x,y):\n",
        "    return x+y\n",
        "  def sub(self,x,y) :\n",
        "    return x-y\n",
        "\n",
        "class Calculator(InputHandler,Operations) :#child class\n",
        "  def calculate_all(self):\n",
        "    print(\"Addition :\",self.add(self.a,self.b))\n",
        "    print(\"Subtraction :\",self.sub(self.a,self.b))\n",
        "c=Calculator(20,10)\n",
        "c.calculate_all()"
      ],
      "metadata": {
        "colab": {
          "base_uri": "https://localhost:8080/"
        },
        "id": "p58-brK5AgJj",
        "outputId": "284ad051-193e-4254-a2e2-b38aa5425f80"
      },
      "execution_count": 11,
      "outputs": [
        {
          "output_type": "stream",
          "name": "stdout",
          "text": [
            "Addition : 30\n",
            "Subtraction : 10\n"
          ]
        }
      ]
    },
    {
      "cell_type": "code",
      "source": [
        "#Multilevel Inheritance\n",
        "class Grandparent:\n",
        "  def show_grandparent(self):\n",
        "    print(\"Grandparent class\")\n",
        "class parent(Grandparent) :\n",
        "  def show_parent(self):\n",
        "    print(\"Parent class\")\n",
        "class child (parent):\n",
        "  def show_child(self) :\n",
        "    print(\"child class\")\n",
        "obj1=child()\n",
        "obj1.show_grandparent()"
      ],
      "metadata": {
        "colab": {
          "base_uri": "https://localhost:8080/"
        },
        "id": "YcvBr1mCDKR7",
        "outputId": "7803416b-ebd5-4170-8940-6a330e18882f"
      },
      "execution_count": 12,
      "outputs": [
        {
          "output_type": "stream",
          "name": "stdout",
          "text": [
            "Grandparent class\n"
          ]
        }
      ]
    },
    {
      "cell_type": "code",
      "source": [
        "#Hierarchial inheritance\n",
        "class Parent :\n",
        "  def show(self):\n",
        "    print(\"parent class\")\n",
        "class child1(Parent) :\n",
        "  def display1(self):\n",
        "    print(\"Child1 class\")\n",
        "class child2(Parent):\n",
        "  def display2(self):\n",
        "    print(\"child2 class\")\n",
        "\n",
        "obj1=child1()\n",
        "obj2=child2()\n",
        "obj1.show()\n",
        "obj1.display1()\n",
        "obj2.show()\n",
        "obj2.display2()"
      ],
      "metadata": {
        "colab": {
          "base_uri": "https://localhost:8080/"
        },
        "id": "WTdvQismEM42",
        "outputId": "4da7cd53-3a35-4026-c7c8-14e2b1df3c97"
      },
      "execution_count": 13,
      "outputs": [
        {
          "output_type": "stream",
          "name": "stdout",
          "text": [
            "parent class\n",
            "Child1 class\n",
            "parent class\n",
            "child2 class\n"
          ]
        }
      ]
    },
    {
      "cell_type": "code",
      "source": [
        "#Hybrid inheritance combines multiple and multilevel inheritance\n",
        "class A :\n",
        "  def method_A(self):\n",
        "    print(\"Class A\")\n",
        "class B(A) :\n",
        "  def method_B(self):\n",
        "    print(\"Class B\")\n",
        "class C(A):\n",
        "  def method_C(self):\n",
        "    print(\"Class C\")\n",
        "class D(B,C):\n",
        "  def method_D(self):\n",
        "    print(\"Class D\")\n",
        "obj=D()\n",
        "obj.method_A()\n",
        "obj.method_B()\n",
        "obj.method_C()\n",
        "obj.method_D()"
      ],
      "metadata": {
        "colab": {
          "base_uri": "https://localhost:8080/"
        },
        "id": "Qc-oz2HAFl5H",
        "outputId": "1e4fe88f-d2d8-451b-c1cc-453fb876e5e7"
      },
      "execution_count": 14,
      "outputs": [
        {
          "output_type": "stream",
          "name": "stdout",
          "text": [
            "Class A\n",
            "Class B\n",
            "Class C\n",
            "Class D\n"
          ]
        }
      ]
    },
    {
      "cell_type": "code",
      "source": [
        "#Polymorphism\n",
        "class animal:\n",
        "  def speak(self):\n",
        "    print(\"some sound\")\n",
        "class dog(animal) :\n",
        "  def speak(self):\n",
        "    print(\"dog woof\")\n",
        "class cat(animal) :\n",
        "  def speak(self):\n",
        "    print(\"meow\")\n",
        "animals=[animal(),dog()]\n",
        "for animal in animals :\n",
        "  animal.speak()"
      ],
      "metadata": {
        "colab": {
          "base_uri": "https://localhost:8080/"
        },
        "id": "gxTFYtE4GsW9",
        "outputId": "07443206-4ae4-4e59-9852-b0ea8b4b332d"
      },
      "execution_count": 15,
      "outputs": [
        {
          "output_type": "stream",
          "name": "stdout",
          "text": [
            "some sound\n",
            "dog woof\n"
          ]
        }
      ]
    },
    {
      "cell_type": "code",
      "source": [
        "class birds :\n",
        "  def speak(self):\n",
        "    print(\"some sound\")\n",
        "class sparrow(birds):\n",
        "  def speak(self):\n",
        "    print(\"chirp\")\n",
        "class crow(birds) :\n",
        "  def speak(self) :\n",
        "    print(\"Caw!Caw!\")\n",
        "bird=[birds(),sparrow(),crow()]\n",
        "for birds in bird :\n",
        "  birds.speak()"
      ],
      "metadata": {
        "colab": {
          "base_uri": "https://localhost:8080/"
        },
        "id": "46baRxdaNB_C",
        "outputId": "88eec058-d6f0-4f8a-dcfd-3594e7a0f625"
      },
      "execution_count": 16,
      "outputs": [
        {
          "output_type": "stream",
          "name": "stdout",
          "text": [
            "some sound\n",
            "chirp\n",
            "Caw!Caw!\n"
          ]
        }
      ]
    },
    {
      "cell_type": "code",
      "source": [
        "print(len(\"Hello\"))"
      ],
      "metadata": {
        "colab": {
          "base_uri": "https://localhost:8080/"
        },
        "id": "5560C4dKO2ML",
        "outputId": "e72bb114-203e-4bf8-91bd-b5bdfe855650"
      },
      "execution_count": 17,
      "outputs": [
        {
          "output_type": "stream",
          "name": "stdout",
          "text": [
            "5\n"
          ]
        }
      ]
    },
    {
      "cell_type": "code",
      "source": [
        "print(len([1,2,3,4]))"
      ],
      "metadata": {
        "colab": {
          "base_uri": "https://localhost:8080/"
        },
        "id": "dDzQ-6oHPo4c",
        "outputId": "882727ff-0811-479c-f258-4a84123a1a3c"
      },
      "execution_count": 18,
      "outputs": [
        {
          "output_type": "stream",
          "name": "stdout",
          "text": [
            "4\n"
          ]
        }
      ]
    },
    {
      "cell_type": "code",
      "source": [
        "def add(a,b):\n",
        "  return a+b\n",
        "print(add(5,6))\n",
        "print(add(\"Hello\",\"world\"))\n",
        "print([1,2],[3,4])"
      ],
      "metadata": {
        "colab": {
          "base_uri": "https://localhost:8080/"
        },
        "id": "V92b1-uAPzfZ",
        "outputId": "926e3d30-c8ff-4e2a-e4ef-2935964a9d66"
      },
      "execution_count": 19,
      "outputs": [
        {
          "output_type": "stream",
          "name": "stdout",
          "text": [
            "11\n",
            "Helloworld\n",
            "[1, 2] [3, 4]\n"
          ]
        }
      ]
    },
    {
      "cell_type": "code",
      "source": [
        "print(5+6)"
      ],
      "metadata": {
        "colab": {
          "base_uri": "https://localhost:8080/"
        },
        "id": "0lM-e-QhQRhw",
        "outputId": "956ffc5d-e89e-4d01-a8c9-fc6ad040c69a"
      },
      "execution_count": 20,
      "outputs": [
        {
          "output_type": "stream",
          "name": "stdout",
          "text": [
            "11\n"
          ]
        }
      ]
    },
    {
      "cell_type": "code",
      "source": [
        "print(\"hello\"+\"world\")"
      ],
      "metadata": {
        "id": "FQoyAHm6QbZb",
        "outputId": "45c3094f-b8a5-480f-bf9e-ac5bc91f944f",
        "colab": {
          "base_uri": "https://localhost:8080/"
        }
      },
      "execution_count": 21,
      "outputs": [
        {
          "output_type": "stream",
          "name": "stdout",
          "text": [
            "helloworld\n"
          ]
        }
      ]
    },
    {
      "cell_type": "code",
      "source": [
        "class operation:\n",
        "  def __init__(self,a,b) :\n",
        "    self.a=a\n",
        "    self.b=b\n",
        "class calculator(operation) :\n",
        "  def sum(self) :\n",
        "    return self.a +self.b\n",
        "  def sub(self) :\n",
        "    return self.a - self.b\n",
        "  def product(self):\n",
        "    return self.a*self.b\n",
        "obj=calculator(50,60)\n",
        "print(obj.sum())\n",
        "print(obj.sub())\n",
        "print(obj.product())"
      ],
      "metadata": {
        "id": "QJ4cwqfSQfp6",
        "colab": {
          "base_uri": "https://localhost:8080/"
        },
        "outputId": "a6cc5325-a9bb-445c-e314-71b0e869b8e7"
      },
      "execution_count": 22,
      "outputs": [
        {
          "output_type": "stream",
          "name": "stdout",
          "text": [
            "110\n",
            "-10\n",
            "3000\n"
          ]
        }
      ]
    },
    {
      "cell_type": "code",
      "source": [
        "class Principal :\n",
        "  def __init__(self,a,b) :\n",
        "    self.a=a\n",
        "    self.b=b\n",
        "class Teacher :\n",
        "  def student1(self,x):\n",
        "    return x\n",
        "  def student2(self,y) :\n",
        "    return y\n",
        "class student(Principal,Teacher) :\n",
        "  def inputString(self) :\n",
        "    print(\"First Student :\",self.student1(self.a))\n",
        "    print(\"Second student :\",self.student2(self.b))\n",
        "\n",
        "obj=student(\"Prabhjot\",\"Harsh\")\n",
        "obj.inputString()"
      ],
      "metadata": {
        "colab": {
          "base_uri": "https://localhost:8080/"
        },
        "id": "UMJCkSy4qom1",
        "outputId": "c3414e23-180c-4279-8825-787bc28232c2"
      },
      "execution_count": 23,
      "outputs": [
        {
          "output_type": "stream",
          "name": "stdout",
          "text": [
            "First Student : Prabhjot\n",
            "Second student : Harsh\n"
          ]
        }
      ]
    },
    {
      "cell_type": "code",
      "source": [
        "#Runtime Polymorphism\n",
        "class Animal:\n",
        "  def speak(self) :\n",
        "    return \"some sound\"\n",
        "class cat :\n",
        "  def speak (self):\n",
        "    return \"meow\"\n",
        "obj=[Animal(),cat()]\n",
        "for i in obj :\n",
        "  print(i.speak())"
      ],
      "metadata": {
        "colab": {
          "base_uri": "https://localhost:8080/"
        },
        "id": "ColjKbEZFlIe",
        "outputId": "a5ca4423-fe3a-4fe6-dd72-ef2f1c033d1c"
      },
      "execution_count": 24,
      "outputs": [
        {
          "output_type": "stream",
          "name": "stdout",
          "text": [
            "some sound\n",
            "meow\n"
          ]
        }
      ]
    },
    {
      "cell_type": "code",
      "source": [
        "class vehicle1 :\n",
        "  def __init__(self,name,color) :\n",
        "    self.name=name\n",
        "    self.color=color\n",
        "  def test_drive( self ) :\n",
        "    print(\"Good one\")\n",
        "V1=vehicle1(\"Defender\",\"black\")\n",
        "print(V1.name,V1.color)\n",
        "V1.test_drive()"
      ],
      "metadata": {
        "colab": {
          "base_uri": "https://localhost:8080/"
        },
        "id": "Q1k3sZDVHNyb",
        "outputId": "56decac5-b487-459c-89bb-26922e5d0dc6"
      },
      "execution_count": 25,
      "outputs": [
        {
          "output_type": "stream",
          "name": "stdout",
          "text": [
            "Defender black\n",
            "Good one\n"
          ]
        }
      ]
    },
    {
      "cell_type": "code",
      "source": [],
      "metadata": {
        "id": "sdH5pUKTKidv"
      },
      "execution_count": 25,
      "outputs": []
    }
  ]
}