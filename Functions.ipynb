{
  "nbformat": 4,
  "nbformat_minor": 0,
  "metadata": {
    "colab": {
      "provenance": []
    },
    "kernelspec": {
      "name": "python3",
      "display_name": "Python 3"
    },
    "language_info": {
      "name": "python"
    }
  },
  "cells": [
    {
      "cell_type": "code",
      "execution_count": null,
      "metadata": {
        "id": "5iJ_L_r5dhit"
      },
      "outputs": [],
      "source": [
        "def greet(name):\n",
        "  print(f'welcome {name}')"
      ]
    },
    {
      "cell_type": "code",
      "source": [
        "greet(\"Prabhjot\")"
      ],
      "metadata": {
        "colab": {
          "base_uri": "https://localhost:8080/"
        },
        "id": "Wr6bImahd1Z4",
        "outputId": "8f480167-f3b0-4755-fce7-35c3e20307db"
      },
      "execution_count": null,
      "outputs": [
        {
          "output_type": "stream",
          "name": "stdout",
          "text": [
            "welcome Prabhjot\n"
          ]
        }
      ]
    },
    {
      "cell_type": "code",
      "source": [
        "add=lambda x,y:x+y\n",
        "print(add(5,6))"
      ],
      "metadata": {
        "colab": {
          "base_uri": "https://localhost:8080/"
        },
        "id": "d2QQHDVcd8qR",
        "outputId": "b829f6b6-e923-4c32-8800-6cdd0686bb97"
      },
      "execution_count": null,
      "outputs": [
        {
          "output_type": "stream",
          "name": "stdout",
          "text": [
            "11\n"
          ]
        }
      ]
    },
    {
      "cell_type": "code",
      "source": [
        "product=lambda x,y:x*y\n",
        "print(product(5,6))"
      ],
      "metadata": {
        "colab": {
          "base_uri": "https://localhost:8080/"
        },
        "id": "NxnxfmC3eLup",
        "outputId": "e0730362-6aa7-44f9-da59-2f8e443523a2"
      },
      "execution_count": null,
      "outputs": [
        {
          "output_type": "stream",
          "name": "stdout",
          "text": [
            "30\n"
          ]
        }
      ]
    },
    {
      "cell_type": "code",
      "source": [
        "divide=lambda x,y:x/y\n",
        "print(divide(4,2))"
      ],
      "metadata": {
        "colab": {
          "base_uri": "https://localhost:8080/"
        },
        "id": "jVVHWiKQebHk",
        "outputId": "43d506c1-37e7-48b1-9d82-4927b2cf953a"
      },
      "execution_count": null,
      "outputs": [
        {
          "output_type": "stream",
          "name": "stdout",
          "text": [
            "2.0\n"
          ]
        }
      ]
    },
    {
      "cell_type": "code",
      "source": [
        "def fact(n):\n",
        "  if n==0:\n",
        "    return 1\n",
        "  else:\n",
        "    return n*fact(n-1)"
      ],
      "metadata": {
        "id": "nN8UQERRe4gt"
      },
      "execution_count": null,
      "outputs": []
    },
    {
      "cell_type": "code",
      "source": [
        "fact(5)"
      ],
      "metadata": {
        "colab": {
          "base_uri": "https://localhost:8080/"
        },
        "id": "h7V2pGL0gC9d",
        "outputId": "fe1841d1-05c4-4d41-802c-a76e2867a231"
      },
      "execution_count": null,
      "outputs": [
        {
          "output_type": "execute_result",
          "data": {
            "text/plain": [
              "120"
            ]
          },
          "metadata": {},
          "execution_count": 7
        }
      ]
    },
    {
      "cell_type": "code",
      "source": [
        "fact(4)"
      ],
      "metadata": {
        "colab": {
          "base_uri": "https://localhost:8080/"
        },
        "id": "phDorcZdgFsP",
        "outputId": "734a3676-7e2c-4069-8f84-e8533f56be6d"
      },
      "execution_count": null,
      "outputs": [
        {
          "output_type": "execute_result",
          "data": {
            "text/plain": [
              "24"
            ]
          },
          "metadata": {},
          "execution_count": 8
        }
      ]
    },
    {
      "cell_type": "code",
      "source": [
        "def fibonacciseries(x):\n",
        "  if x==0:\n",
        "    return 0\n",
        "  elif x==1:\n",
        "    return 1\n",
        "\n",
        "  else :\n",
        "      return fibonacciseries(x-1)+fibonacciseries(x-2)\n",
        "numberofterms=int(input(\"enter no of terms\"))\n",
        "for i in range(numberofterms)  :\n",
        "  print(fibonacciseries(i),end=\" \")\n"
      ],
      "metadata": {
        "colab": {
          "base_uri": "https://localhost:8080/"
        },
        "id": "m0bGKRFdgInx",
        "outputId": "53c4b72b-11f0-42f6-da5b-750a9f130845"
      },
      "execution_count": null,
      "outputs": [
        {
          "output_type": "stream",
          "name": "stdout",
          "text": [
            "enter no of terms4\n",
            "0 1 1 2 "
          ]
        }
      ]
    },
    {
      "cell_type": "code",
      "source": [
        "def stringReverse(x) :\n",
        "  for i in range(len(x)-1,-1,-1) :\n",
        "    print(x[i],end=\"\")\n",
        "stringReverse(\"prabhjot\")"
      ],
      "metadata": {
        "colab": {
          "base_uri": "https://localhost:8080/"
        },
        "id": "THol_A1ChCZY",
        "outputId": "af08ba9d-0dd7-415a-83b1-e5b691d92ed9"
      },
      "execution_count": null,
      "outputs": [
        {
          "output_type": "stream",
          "name": "stdout",
          "text": [
            "tojhbarp"
          ]
        }
      ]
    },
    {
      "cell_type": "code",
      "source": [
        "def largestinlist(x) :\n",
        "  largest=x[0]\n",
        "  for i in range(1,len(x)-1) :\n",
        "      if largest<x[i] :\n",
        "        largest=x[i]\n",
        "  return largest\n"
      ],
      "metadata": {
        "id": "8KseGxnOiKdF"
      },
      "execution_count": null,
      "outputs": []
    },
    {
      "cell_type": "code",
      "source": [
        "largestinlist([11,22,66,88,33,44])"
      ],
      "metadata": {
        "colab": {
          "base_uri": "https://localhost:8080/"
        },
        "id": "AUrFFdtXlxLf",
        "outputId": "fb63ea69-8bc3-4ae6-af05-9df64b70971e"
      },
      "execution_count": null,
      "outputs": [
        {
          "output_type": "execute_result",
          "data": {
            "text/plain": [
              "88"
            ]
          },
          "metadata": {},
          "execution_count": 12
        }
      ]
    },
    {
      "cell_type": "code",
      "source": [
        "def even_no(x):\n",
        "  n=len(x)\n",
        "\n",
        "  for i in range(0,n) :\n",
        "    if x[i]%2==0 :\n",
        "      print(x[i],end=\" \")"
      ],
      "metadata": {
        "id": "tPkdObm1l5-7"
      },
      "execution_count": null,
      "outputs": []
    },
    {
      "cell_type": "code",
      "source": [
        "even_no([1,2,3,4,5,6,7,8,10])"
      ],
      "metadata": {
        "colab": {
          "base_uri": "https://localhost:8080/"
        },
        "id": "p8Igd3f_oSig",
        "outputId": "c8e06678-b561-4d6e-b533-3aa8d5d28e14"
      },
      "execution_count": null,
      "outputs": [
        {
          "output_type": "stream",
          "name": "stdout",
          "text": [
            "2 4 6 8 10 "
          ]
        }
      ]
    },
    {
      "cell_type": "code",
      "source": [
        "def isPallindrome(x):\n",
        "\n",
        "  if x==x[::-1] :\n",
        "    print (\"Pallindrome\")\n",
        "  else:\n",
        "    print(\"Not Pallindrome\")"
      ],
      "metadata": {
        "id": "xosdMhgQoZ80"
      },
      "execution_count": null,
      "outputs": []
    },
    {
      "cell_type": "code",
      "source": [
        "isPallindrome(\"NITIN\")"
      ],
      "metadata": {
        "colab": {
          "base_uri": "https://localhost:8080/"
        },
        "id": "bTJyZrtLpbuP",
        "outputId": "788c5401-c14f-42b9-b691-9113ec748eda"
      },
      "execution_count": null,
      "outputs": [
        {
          "output_type": "stream",
          "name": "stdout",
          "text": [
            "Pallindrome\n"
          ]
        }
      ]
    },
    {
      "cell_type": "code",
      "source": [
        "isPallindrome(\"Madam\")"
      ],
      "metadata": {
        "colab": {
          "base_uri": "https://localhost:8080/"
        },
        "id": "vQSpTRPYXEg5",
        "outputId": "f5e24b44-97c3-460f-8028-0d6e915af993"
      },
      "execution_count": null,
      "outputs": [
        {
          "output_type": "stream",
          "name": "stdout",
          "text": [
            "Not Pallindrome\n"
          ]
        }
      ]
    },
    {
      "cell_type": "code",
      "source": [
        "def student_details(x):\n",
        "  for i in range(len(x)) :\n",
        "    if x[\"Age\"][i]>=18 :\n",
        "      print(x[\"Name\"][i],end =\" \")"
      ],
      "metadata": {
        "id": "kgrolgvRphA2"
      },
      "execution_count": null,
      "outputs": []
    },
    {
      "cell_type": "code",
      "source": [
        "student_details({\"Name\":[\"Prabhjot\",\"Rohan\"],\"Age\":[19,17]})"
      ],
      "metadata": {
        "id": "uIQIhAAotaOT",
        "colab": {
          "base_uri": "https://localhost:8080/"
        },
        "outputId": "6d36625f-6a73-4a1b-ca13-0930ad44165c"
      },
      "execution_count": null,
      "outputs": [
        {
          "output_type": "stream",
          "name": "stdout",
          "text": [
            "Prabhjot "
          ]
        }
      ]
    },
    {
      "cell_type": "code",
      "source": [
        "def sum_of_squares(x):\n",
        "  sum=0\n",
        "  for i in range(1,x+1) :\n",
        "    sum=sum+(i*i)\n",
        "  return sum"
      ],
      "metadata": {
        "id": "0dQmVlQGuC_w"
      },
      "execution_count": null,
      "outputs": []
    },
    {
      "cell_type": "code",
      "source": [
        "sum_of_squares(5)\n"
      ],
      "metadata": {
        "colab": {
          "base_uri": "https://localhost:8080/"
        },
        "id": "JqNgOaO3N0_8",
        "outputId": "648f9ac4-5824-4ada-a313-35c2423a9ae4"
      },
      "execution_count": null,
      "outputs": [
        {
          "output_type": "execute_result",
          "data": {
            "text/plain": [
              "55"
            ]
          },
          "metadata": {},
          "execution_count": 21
        }
      ]
    },
    {
      "cell_type": "code",
      "source": [
        "def list_of_strings(x):\n",
        "  for i in range(len(x)) :\n",
        "    x.sort()\n",
        "  print(x)"
      ],
      "metadata": {
        "id": "ZZOgRPGXN9ai"
      },
      "execution_count": null,
      "outputs": []
    },
    {
      "cell_type": "code",
      "source": [
        "list_of_strings([\"prabhjot\",\"rohan\",\"rohit\", \"anmol\"])"
      ],
      "metadata": {
        "colab": {
          "base_uri": "https://localhost:8080/"
        },
        "id": "-g1jhAmHSjQi",
        "outputId": "bfeccffb-4b68-46d2-9ec9-1e193e0ae4b7"
      },
      "execution_count": null,
      "outputs": [
        {
          "output_type": "stream",
          "name": "stdout",
          "text": [
            "['anmol', 'prabhjot', 'rohan', 'rohit']\n"
          ]
        }
      ]
    },
    {
      "cell_type": "code",
      "source": [
        "def unique_elements(x):\n",
        "  y=[]\n",
        "  for i in range(len(x)) :\n",
        "    y=list(set(x))\n",
        "  print(y)"
      ],
      "metadata": {
        "id": "L1M9DWJGSmLd"
      },
      "execution_count": null,
      "outputs": []
    },
    {
      "cell_type": "code",
      "source": [
        "unique_elements([1,2,3,4,5,61,2,3,2,4])"
      ],
      "metadata": {
        "colab": {
          "base_uri": "https://localhost:8080/"
        },
        "id": "2UVq3Q7ypZ05",
        "outputId": "ebda9bb2-faae-4df1-972a-b29e09d38dc2"
      },
      "execution_count": null,
      "outputs": [
        {
          "output_type": "stream",
          "name": "stdout",
          "text": [
            "[1, 2, 3, 4, 5, 61]\n"
          ]
        }
      ]
    },
    {
      "cell_type": "code",
      "source": [
        "def Occurences(x) :\n",
        "  d={}\n",
        "  for i in range(len(x)) :\n",
        "    if x[i] in d :\n",
        "      d+=x[i]\n",
        "    else :\n",
        "      d[i]=1\n",
        "  print(d)\n",
        "string=input(\"enter any string\")\n",
        "Occurences(string)"
      ],
      "metadata": {
        "colab": {
          "base_uri": "https://localhost:8080/"
        },
        "id": "b8UA3iioph-h",
        "outputId": "ae023d4f-215c-44d1-b8cc-e3a8b7097d2d"
      },
      "execution_count": null,
      "outputs": [
        {
          "output_type": "stream",
          "name": "stdout",
          "text": [
            "enter any stringprabh\n",
            "{0: 1, 1: 1, 2: 1, 3: 1, 4: 1}\n"
          ]
        }
      ]
    },
    {
      "cell_type": "code",
      "source": [
        "def average(x) :\n",
        "  sum=0\n",
        "  for i in range (len(x)):\n",
        "    sum+=x[i]\n",
        "\n",
        "  print(sum/len(x))\n"
      ],
      "metadata": {
        "id": "XaiC68kQrB06"
      },
      "execution_count": null,
      "outputs": []
    },
    {
      "cell_type": "code",
      "source": [
        "average([1,2,3,4,5,6])"
      ],
      "metadata": {
        "colab": {
          "base_uri": "https://localhost:8080/"
        },
        "id": "vb372IddsuC2",
        "outputId": "22e1d080-37a8-4fbc-91c8-b33b4befcc5e"
      },
      "execution_count": null,
      "outputs": [
        {
          "output_type": "stream",
          "name": "stdout",
          "text": [
            "3.5\n"
          ]
        }
      ]
    },
    {
      "cell_type": "code",
      "source": [
        "def leap_year(x) :\n",
        "  if  x%4==0 :\n",
        "    print(\"Leap Year\")\n",
        "  else :\n",
        "    print(\"Not Leap Year\")"
      ],
      "metadata": {
        "id": "3lx8zyUgsyik"
      },
      "execution_count": null,
      "outputs": []
    },
    {
      "cell_type": "code",
      "source": [
        "leap_year(2024)"
      ],
      "metadata": {
        "colab": {
          "base_uri": "https://localhost:8080/"
        },
        "id": "XGvE9olJuKvx",
        "outputId": "f095277c-0c4c-48be-b571-9a0fb3d1b3cf"
      },
      "execution_count": null,
      "outputs": [
        {
          "output_type": "stream",
          "name": "stdout",
          "text": [
            "Leap Year\n"
          ]
        }
      ]
    },
    {
      "cell_type": "code",
      "source": [
        "def stringlist(x):\n",
        "  str2=[]\n",
        "  for i in range(len(x)):\n",
        "    if len(x[i])>=5 :\n",
        "      str2+=x[i]\n",
        "    else :\n",
        "      str2=x[i]\n",
        "  print(str2, end=\"\")"
      ],
      "metadata": {
        "id": "9ffc_TFcuPWX"
      },
      "execution_count": null,
      "outputs": []
    },
    {
      "cell_type": "code",
      "source": [
        "stringlist([\"prab\",\"Computer\",\"Science\",\"Artificial\"])"
      ],
      "metadata": {
        "colab": {
          "base_uri": "https://localhost:8080/"
        },
        "id": "IdLXeCbPvHq0",
        "outputId": "5ce916a7-c047-440b-8b6e-c081735f54d9"
      },
      "execution_count": null,
      "outputs": [
        {
          "output_type": "stream",
          "name": "stdout",
          "text": [
            "prabComputerScienceArtificial"
          ]
        }
      ]
    },
    {
      "cell_type": "code",
      "source": [
        "def primenumber(x):\n",
        "  for i in range(2,x) :\n",
        "    if x %i==0 :\n",
        "      print(\"its not a prime no.\")\n",
        "    else :\n",
        "      print(\" its a prime number\")"
      ],
      "metadata": {
        "id": "brLk5tzmvUpX"
      },
      "execution_count": null,
      "outputs": []
    },
    {
      "cell_type": "code",
      "source": [
        "primenumber(3)"
      ],
      "metadata": {
        "colab": {
          "base_uri": "https://localhost:8080/"
        },
        "id": "6osMbzsPxeNs",
        "outputId": "e190a884-8468-4784-9a2a-0c24a0a216da"
      },
      "execution_count": null,
      "outputs": [
        {
          "output_type": "stream",
          "name": "stdout",
          "text": [
            " its a prime number\n"
          ]
        }
      ]
    },
    {
      "cell_type": "code",
      "source": [
        "def reversesentence(x):\n",
        "  y=\" \"\n",
        "  for i in range(len(x)-1,-1,-1):\n",
        "    y+=x[i]\n",
        "  print(y)"
      ],
      "metadata": {
        "id": "b7H-isr3xsVU"
      },
      "execution_count": null,
      "outputs": []
    },
    {
      "cell_type": "code",
      "source": [
        "reversesentence(\"I am learning python\")"
      ],
      "metadata": {
        "colab": {
          "base_uri": "https://localhost:8080/"
        },
        "id": "h7vRyXQ5yVoE",
        "outputId": "01522a79-e1f6-49c8-8a96-06391159ad86"
      },
      "execution_count": null,
      "outputs": [
        {
          "output_type": "stream",
          "name": "stdout",
          "text": [
            " nohtyp gninrael ma I\n"
          ]
        }
      ]
    },
    {
      "cell_type": "code",
      "source": [
        "def is_pallindrome(x):\n",
        "  n=len(x)\n",
        "\n",
        "  ispallindrome=False\n",
        "  for i in range(n) :\n",
        "    if x[i] == x[n-1] :\n",
        "      ispallindrome=True\n",
        "    else :\n",
        "      ispallindrome=False\n",
        "  if ispallindrome:\n",
        "    print(\"Pallindrome\")\n",
        "  else :\n",
        "    print(\"Not Pallindrome\")\n",
        "x=\"Wow\"\n",
        "print(x.lower())\n",
        "is_pallindrome(x)"
      ],
      "metadata": {
        "id": "tAYBF8rGyfHl",
        "colab": {
          "base_uri": "https://localhost:8080/"
        },
        "outputId": "a6af7c6c-14e1-4012-b15b-4cf26b5e9c4a"
      },
      "execution_count": null,
      "outputs": [
        {
          "output_type": "stream",
          "name": "stdout",
          "text": [
            "wow\n",
            "Pallindrome\n"
          ]
        }
      ]
    },
    {
      "cell_type": "code",
      "source": [
        "def second_largest(x) :\n",
        "  x.sort()\n",
        "  print(x[-2])\n",
        "second_largest([1,2,3,4,5,6])"
      ],
      "metadata": {
        "colab": {
          "base_uri": "https://localhost:8080/"
        },
        "id": "Zz9TwprfYrDI",
        "outputId": "f81455d1-94a0-4197-c352-9766b6ce8bb3"
      },
      "execution_count": null,
      "outputs": [
        {
          "output_type": "stream",
          "name": "stdout",
          "text": [
            "5\n"
          ]
        }
      ]
    },
    {
      "cell_type": "code",
      "source": [
        "def count_vowels(x) :\n",
        "  vowels=[\"a\",\"i\",\"e\",\"o\",\"u\",\"A\",\"I\",\"E\",\"O\",\"U\"]\n",
        "  count=0\n",
        "  for i in range(len(x)):\n",
        "    if x[i] in vowels:\n",
        "      count+=1\n",
        "    else:\n",
        "      None\n",
        "  return count\n",
        "s=input(\"enter any string :\")\n",
        "count_vowels(s)"
      ],
      "metadata": {
        "colab": {
          "base_uri": "https://localhost:8080/"
        },
        "id": "pRzPN6IGZW5m",
        "outputId": "9823bd22-987a-400d-c4ee-b7d995eea102"
      },
      "execution_count": null,
      "outputs": [
        {
          "name": "stdout",
          "output_type": "stream",
          "text": [
            "enter any string :prabh\n"
          ]
        },
        {
          "output_type": "execute_result",
          "data": {
            "text/plain": [
              "1"
            ]
          },
          "metadata": {},
          "execution_count": 39
        }
      ]
    },
    {
      "cell_type": "code",
      "source": [
        "sum=lambda x,y,z : x+y+z\n",
        "print(sum(4,6,3))"
      ],
      "metadata": {
        "colab": {
          "base_uri": "https://localhost:8080/"
        },
        "id": "n5XX384LkXFn",
        "outputId": "ae8cab26-3226-4505-ed3a-ab4dd4011519"
      },
      "execution_count": null,
      "outputs": [
        {
          "output_type": "stream",
          "name": "stdout",
          "text": [
            "13\n"
          ]
        }
      ]
    },
    {
      "cell_type": "code",
      "source": [
        "def detail(**data) :\n",
        "  print(data.keys())\n",
        "detail(name=\"prabh\",age=19,city=\"ludhiana\")\n"
      ],
      "metadata": {
        "colab": {
          "base_uri": "https://localhost:8080/"
        },
        "id": "nW40lm9jnLrQ",
        "outputId": "5bdc46ab-f63d-4cbf-8c26-78bd75a99d40"
      },
      "execution_count": null,
      "outputs": [
        {
          "output_type": "stream",
          "name": "stdout",
          "text": [
            "dict_keys(['name', 'age', 'city'])\n"
          ]
        }
      ]
    },
    {
      "cell_type": "code",
      "source": [
        "def info(*details) :\n",
        "  print(details[0])\n",
        "info(1,2,3,4)"
      ],
      "metadata": {
        "colab": {
          "base_uri": "https://localhost:8080/"
        },
        "id": "GsrA99qYobyl",
        "outputId": "e8dff99e-be34-40a3-a15f-05a1b7b76fae"
      },
      "execution_count": null,
      "outputs": [
        {
          "output_type": "stream",
          "name": "stdout",
          "text": [
            "1\n"
          ]
        }
      ]
    },
    {
      "cell_type": "code",
      "source": [
        "def sum(n) :\n",
        "  if n==0 :\n",
        "    return 0\n",
        "  else :\n",
        "    return n + sum(n-1)\n",
        "sum(5)"
      ],
      "metadata": {
        "colab": {
          "base_uri": "https://localhost:8080/"
        },
        "id": "MXIJeETEpH9D",
        "outputId": "435ccd11-289a-43e4-ecf1-867ed03885ee"
      },
      "execution_count": null,
      "outputs": [
        {
          "output_type": "execute_result",
          "data": {
            "text/plain": [
              "15"
            ]
          },
          "metadata": {},
          "execution_count": 43
        }
      ]
    },
    {
      "cell_type": "code",
      "source": [
        "def subtract(n) :\n",
        "  if n==0 :\n",
        "    return 0\n",
        "  else:\n",
        "    return n - subtract(n-1)\n",
        "subtract(3)"
      ],
      "metadata": {
        "colab": {
          "base_uri": "https://localhost:8080/"
        },
        "id": "f6W6PQlCq3ih",
        "outputId": "191067d4-7835-4a2c-ae00-b6d0047057cf"
      },
      "execution_count": null,
      "outputs": [
        {
          "output_type": "execute_result",
          "data": {
            "text/plain": [
              "2"
            ]
          },
          "metadata": {},
          "execution_count": 44
        }
      ]
    },
    {
      "cell_type": "code",
      "source": [
        "def factorial(n):\n",
        "  if n==0 :\n",
        "    return 1\n",
        "  else :\n",
        "    return n*factorial(n-1)\n",
        "factorial(5)"
      ],
      "metadata": {
        "colab": {
          "base_uri": "https://localhost:8080/"
        },
        "id": "UgvXfi0dr4_F",
        "outputId": "4a23aae9-7bec-4e2f-f9cc-72cabc61c37a"
      },
      "execution_count": null,
      "outputs": [
        {
          "output_type": "execute_result",
          "data": {
            "text/plain": [
              "120"
            ]
          },
          "metadata": {},
          "execution_count": 45
        }
      ]
    },
    {
      "cell_type": "code",
      "source": [
        "def fibonacci_series(x) :\n",
        "  if x==0 :\n",
        "    return 0\n",
        "  elif x==1 :\n",
        "    return 1\n",
        "  else :\n",
        "    return fibonacci_series(x-1) + fibonacci_series(x-2)\n",
        "numberofterms=int(input(\"enter no of terms\"))\n",
        "for i in range(numberofterms)  :\n",
        "  print(fibonacci_series(i),end=\" \")"
      ],
      "metadata": {
        "colab": {
          "base_uri": "https://localhost:8080/"
        },
        "id": "fRIj3GcRu-Qm",
        "outputId": "2123104f-e9d9-419e-f3ce-2aa333af6986"
      },
      "execution_count": null,
      "outputs": [
        {
          "output_type": "stream",
          "name": "stdout",
          "text": [
            "enter no of terms8\n",
            "0 1 1 2 3 5 8 13 "
          ]
        }
      ]
    },
    {
      "cell_type": "code",
      "source": [
        "for i in range(1,11) :\n",
        "  print(i,end=\" \")"
      ],
      "metadata": {
        "id": "gxFdT8QTz51w",
        "colab": {
          "base_uri": "https://localhost:8080/"
        },
        "outputId": "11772ebc-04d2-4473-d04c-2d68fd74f26a"
      },
      "execution_count": null,
      "outputs": [
        {
          "output_type": "stream",
          "name": "stdout",
          "text": [
            "1 2 3 4 5 6 7 8 9 10 "
          ]
        }
      ]
    },
    {
      "cell_type": "code",
      "source": [
        "def reversesentence(x):\n",
        "  y=\" \"\n",
        "  for i in range(len(x)-1,-1,-1):\n",
        "    y+=x[i]\n",
        "  print(y)\n",
        "reversesentence (\"I am learning Python\")"
      ],
      "metadata": {
        "id": "z94dFM-HuKRm",
        "outputId": "2b1075ce-059f-4654-9e01-a8fd96012c17",
        "colab": {
          "base_uri": "https://localhost:8080/"
        }
      },
      "execution_count": null,
      "outputs": [
        {
          "output_type": "stream",
          "name": "stdout",
          "text": [
            " nohtyP gninrael ma I\n"
          ]
        }
      ]
    },
    {
      "cell_type": "code",
      "source": [],
      "metadata": {
        "id": "u8WBrDyR0l8v"
      },
      "execution_count": null,
      "outputs": []
    }
  ]
}