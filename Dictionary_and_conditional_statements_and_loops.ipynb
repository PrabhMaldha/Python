{
  "nbformat": 4,
  "nbformat_minor": 0,
  "metadata": {
    "colab": {
      "provenance": []
    },
    "kernelspec": {
      "name": "python3",
      "display_name": "Python 3"
    },
    "language_info": {
      "name": "python"
    }
  },
  "cells": [
    {
      "cell_type": "code",
      "execution_count": 1,
      "metadata": {
        "id": "YRyTaVfE0FHO"
      },
      "outputs": [],
      "source": [
        "d={\"College\":\"SGGSWU\",\"City\":\"Sirhind\",\"course\":\"B.tech\"}"
      ]
    },
    {
      "cell_type": "code",
      "source": [
        "print(d)"
      ],
      "metadata": {
        "colab": {
          "base_uri": "https://localhost:8080/"
        },
        "id": "9y6e34CD0kg2",
        "outputId": "2ad2c372-e265-42db-a38a-e6436fa3992c"
      },
      "execution_count": 2,
      "outputs": [
        {
          "output_type": "stream",
          "name": "stdout",
          "text": [
            "{'College': 'SGGSWU', 'City': 'Sirhind', 'course': 'B.tech'}\n"
          ]
        }
      ]
    },
    {
      "cell_type": "code",
      "source": [
        "d[\"College\"]=\"MGC\""
      ],
      "metadata": {
        "id": "2lc2-iRN0n-d"
      },
      "execution_count": 3,
      "outputs": []
    },
    {
      "cell_type": "code",
      "source": [
        "d[\"contact no.\"]=\"9875667362\""
      ],
      "metadata": {
        "id": "3snZRuZJ1A39"
      },
      "execution_count": 4,
      "outputs": []
    },
    {
      "cell_type": "code",
      "source": [
        "d[\"College\"]"
      ],
      "metadata": {
        "colab": {
          "base_uri": "https://localhost:8080/",
          "height": 35
        },
        "id": "4UjDLx5a1WUX",
        "outputId": "3f3b657f-b524-40c9-adea-4e759eb36f28"
      },
      "execution_count": 5,
      "outputs": [
        {
          "output_type": "execute_result",
          "data": {
            "text/plain": [
              "'MGC'"
            ],
            "application/vnd.google.colaboratory.intrinsic+json": {
              "type": "string"
            }
          },
          "metadata": {},
          "execution_count": 5
        }
      ]
    },
    {
      "cell_type": "code",
      "source": [
        "print(d.keys())"
      ],
      "metadata": {
        "colab": {
          "base_uri": "https://localhost:8080/"
        },
        "id": "Jq3OlXOw2AJC",
        "outputId": "5fec70db-4c3d-458d-f281-1e80ada41f42"
      },
      "execution_count": 6,
      "outputs": [
        {
          "output_type": "stream",
          "name": "stdout",
          "text": [
            "dict_keys(['College', 'City', 'course', 'contact no.'])\n"
          ]
        }
      ]
    },
    {
      "cell_type": "code",
      "source": [
        "print(d.values())"
      ],
      "metadata": {
        "colab": {
          "base_uri": "https://localhost:8080/"
        },
        "id": "9vWysKi12Eif",
        "outputId": "1d84ba09-d6c6-418f-ceb3-c158e4780f30"
      },
      "execution_count": 7,
      "outputs": [
        {
          "output_type": "stream",
          "name": "stdout",
          "text": [
            "dict_values(['MGC', 'Sirhind', 'B.tech', '9875667362'])\n"
          ]
        }
      ]
    },
    {
      "cell_type": "code",
      "source": [
        "print(d.items())"
      ],
      "metadata": {
        "colab": {
          "base_uri": "https://localhost:8080/"
        },
        "id": "wwj2Cohv2I46",
        "outputId": "244a998f-ba7a-4432-db66-3e777eef751f"
      },
      "execution_count": 8,
      "outputs": [
        {
          "output_type": "stream",
          "name": "stdout",
          "text": [
            "dict_items([('College', 'MGC'), ('City', 'Sirhind'), ('course', 'B.tech'), ('contact no.', '9875667362')])\n"
          ]
        }
      ]
    },
    {
      "cell_type": "code",
      "source": [
        "print(d.get(\"College\"))"
      ],
      "metadata": {
        "colab": {
          "base_uri": "https://localhost:8080/"
        },
        "id": "j1b8EE6z2LdM",
        "outputId": "f7366779-a1c7-467c-c21e-9cd8ff15e2f8"
      },
      "execution_count": 9,
      "outputs": [
        {
          "output_type": "stream",
          "name": "stdout",
          "text": [
            "MGC\n"
          ]
        }
      ]
    },
    {
      "cell_type": "code",
      "source": [
        "d1 = {\"College\":\"BFCET\",\"City\":\"Ludhiana\"}\n",
        "d.update(d1)\n",
        "print(d)"
      ],
      "metadata": {
        "colab": {
          "base_uri": "https://localhost:8080/"
        },
        "id": "g-UtK1FF2R9y",
        "outputId": "a3212629-7b9c-4b19-e355-3a81dc84cb9f"
      },
      "execution_count": 10,
      "outputs": [
        {
          "output_type": "stream",
          "name": "stdout",
          "text": [
            "{'College': 'BFCET', 'City': 'Ludhiana', 'course': 'B.tech', 'contact no.': '9875667362'}\n"
          ]
        }
      ]
    },
    {
      "cell_type": "code",
      "source": [
        "d.pop(\"City\")\n",
        "print(d)"
      ],
      "metadata": {
        "colab": {
          "base_uri": "https://localhost:8080/"
        },
        "id": "b3NtLw1p2u_v",
        "outputId": "b7b6fa90-bf54-49f8-99db-3015e611c4e5"
      },
      "execution_count": 11,
      "outputs": [
        {
          "output_type": "stream",
          "name": "stdout",
          "text": [
            "{'College': 'BFCET', 'course': 'B.tech', 'contact no.': '9875667362'}\n"
          ]
        }
      ]
    },
    {
      "cell_type": "code",
      "source": [
        "d.popitem()\n",
        "print(d)"
      ],
      "metadata": {
        "colab": {
          "base_uri": "https://localhost:8080/"
        },
        "id": "6ns5J6Uj27kZ",
        "outputId": "3b8faf88-cb42-4107-fb98-afd65f0d2213"
      },
      "execution_count": 12,
      "outputs": [
        {
          "output_type": "stream",
          "name": "stdout",
          "text": [
            "{'College': 'BFCET', 'course': 'B.tech'}\n"
          ]
        }
      ]
    },
    {
      "cell_type": "code",
      "source": [
        "d.clear()\n",
        "print(d)"
      ],
      "metadata": {
        "colab": {
          "base_uri": "https://localhost:8080/"
        },
        "id": "5rfRNg6d3BGT",
        "outputId": "65efce2f-fa55-4eb2-8007-59e9a2946c73"
      },
      "execution_count": 13,
      "outputs": [
        {
          "output_type": "stream",
          "name": "stdout",
          "text": [
            "{}\n"
          ]
        }
      ]
    },
    {
      "cell_type": "code",
      "source": [
        "student={\"Name\":\"Prabhjot\",\"Age\":20,\"Grade\":\"AI\"}\n",
        "print(student)"
      ],
      "metadata": {
        "colab": {
          "base_uri": "https://localhost:8080/"
        },
        "id": "PcDGggBi3J-R",
        "outputId": "30fff6bb-861e-4ac4-db3e-279980e4798c"
      },
      "execution_count": 14,
      "outputs": [
        {
          "output_type": "stream",
          "name": "stdout",
          "text": [
            "{'Name': 'Prabhjot', 'Age': 20, 'Grade': 'AI'}\n"
          ]
        }
      ]
    },
    {
      "cell_type": "code",
      "source": [
        "student[\"Age\"]"
      ],
      "metadata": {
        "colab": {
          "base_uri": "https://localhost:8080/"
        },
        "id": "CRzF9BCK3yxu",
        "outputId": "ccf0078b-63df-4fb1-ee17-1c23cf16cccd"
      },
      "execution_count": 15,
      "outputs": [
        {
          "output_type": "execute_result",
          "data": {
            "text/plain": [
              "20"
            ]
          },
          "metadata": {},
          "execution_count": 15
        }
      ]
    },
    {
      "cell_type": "code",
      "source": [
        "student[\"Grade\"]=\"A\""
      ],
      "metadata": {
        "id": "k2loc4Oa33Mv"
      },
      "execution_count": 16,
      "outputs": []
    },
    {
      "cell_type": "code",
      "source": [
        "print(student)"
      ],
      "metadata": {
        "colab": {
          "base_uri": "https://localhost:8080/"
        },
        "id": "CL4JGKSF4IX7",
        "outputId": "51a6c41a-cae5-49de-97f8-dbca877bbb86"
      },
      "execution_count": 17,
      "outputs": [
        {
          "output_type": "stream",
          "name": "stdout",
          "text": [
            "{'Name': 'Prabhjot', 'Age': 20, 'Grade': 'A'}\n"
          ]
        }
      ]
    },
    {
      "cell_type": "code",
      "source": [
        "student[\"subject\"]=[\"AI\"]"
      ],
      "metadata": {
        "id": "lNHMSCfn4KMI"
      },
      "execution_count": 18,
      "outputs": []
    },
    {
      "cell_type": "code",
      "source": [
        "print(student)"
      ],
      "metadata": {
        "colab": {
          "base_uri": "https://localhost:8080/"
        },
        "id": "oeGjtxzQ4WBb",
        "outputId": "90d1d23f-934e-4ac5-fb5f-f46c93209feb"
      },
      "execution_count": 19,
      "outputs": [
        {
          "output_type": "stream",
          "name": "stdout",
          "text": [
            "{'Name': 'Prabhjot', 'Age': 20, 'Grade': 'A', 'subject': ['AI']}\n"
          ]
        }
      ]
    },
    {
      "cell_type": "code",
      "source": [
        "dict1 ={\"Name\":\"Ram\",\"Age\":20,\"Grade\":\"A\"}\n",
        "print(dict1)"
      ],
      "metadata": {
        "colab": {
          "base_uri": "https://localhost:8080/"
        },
        "id": "UzWtBwwP4Zvm",
        "outputId": "ba33c59c-5d27-4f3d-e467-7dc06d0c1b0a"
      },
      "execution_count": 20,
      "outputs": [
        {
          "output_type": "stream",
          "name": "stdout",
          "text": [
            "{'Name': 'Ram', 'Age': 20, 'Grade': 'A'}\n"
          ]
        }
      ]
    },
    {
      "cell_type": "code",
      "source": [
        "dict2={\"City\":\"Ludhiana\",\"State\": \"Punjab\",\"Grade\":\"A\"}\n",
        "print(dict2)"
      ],
      "metadata": {
        "colab": {
          "base_uri": "https://localhost:8080/"
        },
        "id": "35b1SpxL476b",
        "outputId": "0fdc2882-2d5b-4b4d-f0e7-2a88296623a1"
      },
      "execution_count": 21,
      "outputs": [
        {
          "output_type": "stream",
          "name": "stdout",
          "text": [
            "{'City': 'Ludhiana', 'State': 'Punjab', 'Grade': 'A'}\n"
          ]
        }
      ]
    },
    {
      "cell_type": "code",
      "source": [
        "dict1.update(dict2)\n",
        "merged_dict=dict1"
      ],
      "metadata": {
        "id": "Np8I6Ii45T-R"
      },
      "execution_count": 22,
      "outputs": []
    },
    {
      "cell_type": "code",
      "source": [
        "print(merged_dict)"
      ],
      "metadata": {
        "colab": {
          "base_uri": "https://localhost:8080/"
        },
        "id": "-qW98L9l5pFy",
        "outputId": "4c466d7b-3c98-47a6-e3eb-177a662bb688"
      },
      "execution_count": 23,
      "outputs": [
        {
          "output_type": "stream",
          "name": "stdout",
          "text": [
            "{'Name': 'Ram', 'Age': 20, 'Grade': 'A', 'City': 'Ludhiana', 'State': 'Punjab'}\n"
          ]
        }
      ]
    },
    {
      "cell_type": "code",
      "source": [
        "dict1[\"Grade\"]"
      ],
      "metadata": {
        "colab": {
          "base_uri": "https://localhost:8080/",
          "height": 35
        },
        "id": "AS9PaYM47QZD",
        "outputId": "de2146ba-b30c-41e5-fe65-3856e865277f"
      },
      "execution_count": 24,
      "outputs": [
        {
          "output_type": "execute_result",
          "data": {
            "text/plain": [
              "'A'"
            ],
            "application/vnd.google.colaboratory.intrinsic+json": {
              "type": "string"
            }
          },
          "metadata": {},
          "execution_count": 24
        }
      ]
    },
    {
      "cell_type": "code",
      "source": [
        "print(student.values())"
      ],
      "metadata": {
        "colab": {
          "base_uri": "https://localhost:8080/"
        },
        "id": "pN2K2S2A7n6g",
        "outputId": "f83f65da-b97d-4a01-bbaf-3f37ca9f0465"
      },
      "execution_count": 25,
      "outputs": [
        {
          "output_type": "stream",
          "name": "stdout",
          "text": [
            "dict_values(['Prabhjot', 20, 'A', ['AI']])\n"
          ]
        }
      ]
    },
    {
      "cell_type": "code",
      "source": [
        "print(student.keys())"
      ],
      "metadata": {
        "colab": {
          "base_uri": "https://localhost:8080/"
        },
        "id": "eb0JE1_m71vf",
        "outputId": "b73a3c6f-5f98-4706-b0b5-418952ee3dcc"
      },
      "execution_count": 26,
      "outputs": [
        {
          "output_type": "stream",
          "name": "stdout",
          "text": [
            "dict_keys(['Name', 'Age', 'Grade', 'subject'])\n"
          ]
        }
      ]
    },
    {
      "cell_type": "code",
      "source": [
        "print(student.items())"
      ],
      "metadata": {
        "colab": {
          "base_uri": "https://localhost:8080/"
        },
        "id": "X91hP8KN76b6",
        "outputId": "806ee023-2e91-45f6-9a4a-490147022457"
      },
      "execution_count": 27,
      "outputs": [
        {
          "output_type": "stream",
          "name": "stdout",
          "text": [
            "dict_items([('Name', 'Prabhjot'), ('Age', 20), ('Grade', 'A'), ('subject', ['AI'])])\n"
          ]
        }
      ]
    },
    {
      "cell_type": "code",
      "source": [
        "print(student.get(\"Name\"))"
      ],
      "metadata": {
        "colab": {
          "base_uri": "https://localhost:8080/"
        },
        "id": "STvdu_vU79ca",
        "outputId": "58b4b94e-7a93-4f37-c3cc-1f9c337759bf"
      },
      "execution_count": 28,
      "outputs": [
        {
          "output_type": "stream",
          "name": "stdout",
          "text": [
            "Prabhjot\n"
          ]
        }
      ]
    },
    {
      "cell_type": "code",
      "source": [
        "print(student.pop(\"Grade\"))"
      ],
      "metadata": {
        "colab": {
          "base_uri": "https://localhost:8080/"
        },
        "id": "ajOrsTwN8Cqf",
        "outputId": "e3f69d8d-8219-4bad-d879-6ab61b3a7815"
      },
      "execution_count": 29,
      "outputs": [
        {
          "output_type": "stream",
          "name": "stdout",
          "text": [
            "A\n"
          ]
        }
      ]
    },
    {
      "cell_type": "code",
      "source": [
        "print(student)"
      ],
      "metadata": {
        "colab": {
          "base_uri": "https://localhost:8080/"
        },
        "id": "ffuJ3Nql8L_n",
        "outputId": "b50e0bf0-f185-451f-84fd-accc06709741"
      },
      "execution_count": 30,
      "outputs": [
        {
          "output_type": "stream",
          "name": "stdout",
          "text": [
            "{'Name': 'Prabhjot', 'Age': 20, 'subject': ['AI']}\n"
          ]
        }
      ]
    },
    {
      "cell_type": "code",
      "source": [
        "print([\"Name\"in student])"
      ],
      "metadata": {
        "colab": {
          "base_uri": "https://localhost:8080/"
        },
        "id": "9IFATpFA8kP_",
        "outputId": "5f94ba65-4313-42f8-d3fb-8e629e01d9a9"
      },
      "execution_count": 31,
      "outputs": [
        {
          "output_type": "stream",
          "name": "stdout",
          "text": [
            "[True]\n"
          ]
        }
      ]
    },
    {
      "cell_type": "code",
      "source": [
        "len(student)"
      ],
      "metadata": {
        "colab": {
          "base_uri": "https://localhost:8080/"
        },
        "id": "WVYKLRPJ9LIU",
        "outputId": "01a1360c-f2ae-4b9b-aa47-2046271b7bb6"
      },
      "execution_count": 32,
      "outputs": [
        {
          "output_type": "execute_result",
          "data": {
            "text/plain": [
              "3"
            ]
          },
          "metadata": {},
          "execution_count": 32
        }
      ]
    },
    {
      "cell_type": "code",
      "source": [
        "d2={\"colleges\":{\"C1\":\"MGC\",\"C2\":\"Sggswu\",\"C3\":\"BBSBEC\"},\"Teachers\":{\"T1\":\"AI\",\"T2\":\"ML\"}}"
      ],
      "metadata": {
        "id": "jZ2uMs2o-2vr"
      },
      "execution_count": 33,
      "outputs": []
    },
    {
      "cell_type": "code",
      "source": [
        "d2[\"colleges\"][\"C1\"]"
      ],
      "metadata": {
        "colab": {
          "base_uri": "https://localhost:8080/",
          "height": 35
        },
        "id": "Yl5mcjhj_n4O",
        "outputId": "c9ae8f2d-82c3-4cbe-bd49-877784e1c1f9"
      },
      "execution_count": 34,
      "outputs": [
        {
          "output_type": "execute_result",
          "data": {
            "text/plain": [
              "'MGC'"
            ],
            "application/vnd.google.colaboratory.intrinsic+json": {
              "type": "string"
            }
          },
          "metadata": {},
          "execution_count": 34
        }
      ]
    },
    {
      "cell_type": "code",
      "source": [
        "print(sorted(student))"
      ],
      "metadata": {
        "colab": {
          "base_uri": "https://localhost:8080/"
        },
        "id": "kmFJ8xjd_uym",
        "outputId": "32980bc8-4336-46f5-9656-8235da155d07"
      },
      "execution_count": 35,
      "outputs": [
        {
          "output_type": "stream",
          "name": "stdout",
          "text": [
            "['Age', 'Name', 'subject']\n"
          ]
        }
      ]
    },
    {
      "cell_type": "code",
      "source": [
        "d2[\"colleges\"][\"C2\"]"
      ],
      "metadata": {
        "colab": {
          "base_uri": "https://localhost:8080/",
          "height": 35
        },
        "id": "FznJcmGc_17P",
        "outputId": "26a07c6d-9f5e-4ce4-af15-59d3140b8762"
      },
      "execution_count": 36,
      "outputs": [
        {
          "output_type": "execute_result",
          "data": {
            "text/plain": [
              "'Sggswu'"
            ],
            "application/vnd.google.colaboratory.intrinsic+json": {
              "type": "string"
            }
          },
          "metadata": {},
          "execution_count": 36
        }
      ]
    },
    {
      "cell_type": "code",
      "source": [
        "age=int(input(\"Enter Your age: \"))\n",
        "if age>=18:\n",
        "    print(\"Eligible\")"
      ],
      "metadata": {
        "colab": {
          "base_uri": "https://localhost:8080/"
        },
        "id": "h9fKNhNADAZN",
        "outputId": "59d0e69c-c216-44f2-da64-201d56b78023"
      },
      "execution_count": 37,
      "outputs": [
        {
          "output_type": "stream",
          "name": "stdout",
          "text": [
            "Enter Your age: 18\n",
            "Eligible\n"
          ]
        }
      ]
    },
    {
      "cell_type": "code",
      "source": [
        "age=int(input(\"Enter Your age: \"))\n",
        "if age>=18:\n",
        "    print(\"Eligible\")\n",
        "else:\n",
        "   print(\"Not Eligible\")"
      ],
      "metadata": {
        "colab": {
          "base_uri": "https://localhost:8080/"
        },
        "id": "mU9Tvt1ZATUp",
        "outputId": "13f2d9b7-1975-4bd8-d383-12f08b37e388"
      },
      "execution_count": 38,
      "outputs": [
        {
          "output_type": "stream",
          "name": "stdout",
          "text": [
            "Enter Your age: 21\n",
            "Eligible\n"
          ]
        }
      ]
    },
    {
      "cell_type": "code",
      "source": [
        "age=int(input(\"Enter Your age: \"))\n",
        "if age>=20:\n",
        "    print(\"Eligible\")\n",
        "elif age>=18:\n",
        "  print(\"Graduate\")\n",
        "\n"
      ],
      "metadata": {
        "colab": {
          "base_uri": "https://localhost:8080/"
        },
        "id": "LBAQhzZuDKxu",
        "outputId": "74304021-fd2b-4a9e-bea7-6ea40f98e08c"
      },
      "execution_count": 39,
      "outputs": [
        {
          "output_type": "stream",
          "name": "stdout",
          "text": [
            "Enter Your age: 21\n",
            "Eligible\n"
          ]
        }
      ]
    },
    {
      "cell_type": "code",
      "source": [
        "marks=int(input(\"enter your marks: \"))\n",
        "if marks>=90:\n",
        "  print(\"A Grade\")\n",
        "elif marks>=60 and marks<=90 :\n",
        "  print(\"B Grade\")\n",
        "else :\n",
        "  print(\"C Grade\")"
      ],
      "metadata": {
        "id": "8bl-8xSZFKKL",
        "colab": {
          "base_uri": "https://localhost:8080/"
        },
        "outputId": "71b44c7a-c9b1-47da-aade-2959e56cdde9"
      },
      "execution_count": 40,
      "outputs": [
        {
          "output_type": "stream",
          "name": "stdout",
          "text": [
            "enter your marks: 67\n",
            "B Grade\n"
          ]
        }
      ]
    },
    {
      "cell_type": "code",
      "source": [
        "age=int(input(\"enter your age: \"))\n",
        "if age>=18 :\n",
        "  print(\"eligible for vote\")\n",
        "  if age>=21 :\n",
        "    print(\"eligible for marriage\")\n",
        "  else :\n",
        "    print(\"not eligible for marraige\")\n",
        "else:\n",
        "  print(\"Neither for marriage nor for vote\")"
      ],
      "metadata": {
        "colab": {
          "base_uri": "https://localhost:8080/"
        },
        "id": "-h6votLz9TUe",
        "outputId": "6fa0dd54-2cbe-4884-c05e-9e82aa10c51b"
      },
      "execution_count": 41,
      "outputs": [
        {
          "output_type": "stream",
          "name": "stdout",
          "text": [
            "enter your age: 25\n",
            "eligible for vote\n",
            "eligible for marriage\n"
          ]
        }
      ]
    },
    {
      "cell_type": "code",
      "source": [
        "for i in range( 1,10) :\n",
        "  print(i)"
      ],
      "metadata": {
        "colab": {
          "base_uri": "https://localhost:8080/"
        },
        "id": "Dy7Wf4F2_Vaz",
        "outputId": "60bc1195-4072-4f75-f6af-4bd617ac3c99"
      },
      "execution_count": 42,
      "outputs": [
        {
          "output_type": "stream",
          "name": "stdout",
          "text": [
            "1\n",
            "2\n",
            "3\n",
            "4\n",
            "5\n",
            "6\n",
            "7\n",
            "8\n",
            "9\n"
          ]
        }
      ]
    },
    {
      "cell_type": "code",
      "source": [
        "i=1\n",
        "while i<10 :\n",
        "  print(i)\n",
        "  i+=1"
      ],
      "metadata": {
        "colab": {
          "base_uri": "https://localhost:8080/"
        },
        "id": "-RN_fjG0YhhO",
        "outputId": "a99a26e6-ed1b-456c-f70c-2d8b2dabca8a"
      },
      "execution_count": 43,
      "outputs": [
        {
          "output_type": "stream",
          "name": "stdout",
          "text": [
            "1\n",
            "2\n",
            "3\n",
            "4\n",
            "5\n",
            "6\n",
            "7\n",
            "8\n",
            "9\n"
          ]
        }
      ]
    },
    {
      "cell_type": "code",
      "source": [
        "i=22\n",
        "while  i > 15 :\n",
        "  print(i)\n",
        "  i-=1"
      ],
      "metadata": {
        "colab": {
          "base_uri": "https://localhost:8080/"
        },
        "id": "E99_O7T-XYzZ",
        "outputId": "81e51c65-e2bb-433b-a1bf-82cdab80d32b"
      },
      "execution_count": 44,
      "outputs": [
        {
          "output_type": "stream",
          "name": "stdout",
          "text": [
            "22\n",
            "21\n",
            "20\n",
            "19\n",
            "18\n",
            "17\n",
            "16\n"
          ]
        }
      ]
    },
    {
      "cell_type": "code",
      "source": [
        "i=2\n",
        "while i<21 :\n",
        "  print(i)\n",
        "  i+=2"
      ],
      "metadata": {
        "colab": {
          "base_uri": "https://localhost:8080/"
        },
        "id": "mMo06IOKYHJe",
        "outputId": "4531ec9a-95ba-47fd-d026-32749a87650b"
      },
      "execution_count": 45,
      "outputs": [
        {
          "output_type": "stream",
          "name": "stdout",
          "text": [
            "2\n",
            "4\n",
            "6\n",
            "8\n",
            "10\n",
            "12\n",
            "14\n",
            "16\n",
            "18\n",
            "20\n"
          ]
        }
      ]
    },
    {
      "cell_type": "code",
      "source": [
        "for i in range (0,10,1):\n",
        "  print(i)"
      ],
      "metadata": {
        "colab": {
          "base_uri": "https://localhost:8080/"
        },
        "id": "erhBg7z9ZASM",
        "outputId": "a610db7c-2910-47b9-82c8-4e8d150aaf8c"
      },
      "execution_count": 46,
      "outputs": [
        {
          "output_type": "stream",
          "name": "stdout",
          "text": [
            "0\n",
            "1\n",
            "2\n",
            "3\n",
            "4\n",
            "5\n",
            "6\n",
            "7\n",
            "8\n",
            "9\n"
          ]
        }
      ]
    },
    {
      "cell_type": "code",
      "source": [
        "i=10\n",
        "while i >= 1 :\n",
        "  print(i)\n",
        "  i-=1"
      ],
      "metadata": {
        "colab": {
          "base_uri": "https://localhost:8080/"
        },
        "id": "LGI_fkOmZsMd",
        "outputId": "795554fc-e23c-4173-ca42-e314afe5bf5f"
      },
      "execution_count": 47,
      "outputs": [
        {
          "output_type": "stream",
          "name": "stdout",
          "text": [
            "10\n",
            "9\n",
            "8\n",
            "7\n",
            "6\n",
            "5\n",
            "4\n",
            "3\n",
            "2\n",
            "1\n"
          ]
        }
      ]
    },
    {
      "cell_type": "code",
      "source": [
        "for i in range(10,0,-1) :\n",
        "  print(i)"
      ],
      "metadata": {
        "colab": {
          "base_uri": "https://localhost:8080/"
        },
        "id": "epvXA7gNbIQc",
        "outputId": "ddde522f-08a1-4e12-f0c1-28127f6d1a73"
      },
      "execution_count": 48,
      "outputs": [
        {
          "output_type": "stream",
          "name": "stdout",
          "text": [
            "10\n",
            "9\n",
            "8\n",
            "7\n",
            "6\n",
            "5\n",
            "4\n",
            "3\n",
            "2\n",
            "1\n"
          ]
        }
      ]
    },
    {
      "cell_type": "code",
      "source": [
        "for i in range(20,10,-1) :\n",
        "  print(i)"
      ],
      "metadata": {
        "colab": {
          "base_uri": "https://localhost:8080/"
        },
        "id": "dNQdS21sb4qG",
        "outputId": "3bd9760b-54c0-42f8-ce7f-0bc9143b7269"
      },
      "execution_count": 49,
      "outputs": [
        {
          "output_type": "stream",
          "name": "stdout",
          "text": [
            "20\n",
            "19\n",
            "18\n",
            "17\n",
            "16\n",
            "15\n",
            "14\n",
            "13\n",
            "12\n",
            "11\n"
          ]
        }
      ]
    },
    {
      "cell_type": "code",
      "source": [
        "for i in range (1,6) :\n",
        "  print(\"  *\" * i)"
      ],
      "metadata": {
        "id": "55u4gMR7dYc1",
        "colab": {
          "base_uri": "https://localhost:8080/"
        },
        "outputId": "c8b615b0-3414-41ce-ee9d-ea241dec27e3"
      },
      "execution_count": 50,
      "outputs": [
        {
          "output_type": "stream",
          "name": "stdout",
          "text": [
            "  *\n",
            "  *  *\n",
            "  *  *  *\n",
            "  *  *  *  *\n",
            "  *  *  *  *  *\n"
          ]
        }
      ]
    },
    {
      "cell_type": "code",
      "source": [
        "i=1\n",
        "while i <=5 :\n",
        "  print(\" * \" * i)\n",
        "  i+=1"
      ],
      "metadata": {
        "colab": {
          "base_uri": "https://localhost:8080/"
        },
        "id": "tYBWT6GINWds",
        "outputId": "a5c21cc7-97aa-4291-819b-e23226b77bd0"
      },
      "execution_count": 51,
      "outputs": [
        {
          "output_type": "stream",
          "name": "stdout",
          "text": [
            " * \n",
            " *  * \n",
            " *  *  * \n",
            " *  *  *  * \n",
            " *  *  *  *  * \n"
          ]
        }
      ]
    },
    {
      "cell_type": "code",
      "source": [
        "for i in range(5,0,-1) :\n",
        "  print(\" * \" * i)"
      ],
      "metadata": {
        "colab": {
          "base_uri": "https://localhost:8080/"
        },
        "id": "ciZQ0GfLOxiw",
        "outputId": "3385a821-235a-4e07-8808-8a93e1392d25"
      },
      "execution_count": 52,
      "outputs": [
        {
          "output_type": "stream",
          "name": "stdout",
          "text": [
            " *  *  *  *  * \n",
            " *  *  *  * \n",
            " *  *  * \n",
            " *  * \n",
            " * \n"
          ]
        }
      ]
    },
    {
      "cell_type": "code",
      "source": [
        "a=\"Prabhjot kaur \"\n",
        "for i in range(len(a)) :\n",
        "  print(a[i])"
      ],
      "metadata": {
        "id": "A5efdXdFO8HY",
        "colab": {
          "base_uri": "https://localhost:8080/"
        },
        "outputId": "86b1479c-eae6-4b97-deea-66ef9d054cfb"
      },
      "execution_count": 53,
      "outputs": [
        {
          "output_type": "stream",
          "name": "stdout",
          "text": [
            "P\n",
            "r\n",
            "a\n",
            "b\n",
            "h\n",
            "j\n",
            "o\n",
            "t\n",
            " \n",
            "k\n",
            "a\n",
            "u\n",
            "r\n",
            " \n"
          ]
        }
      ]
    },
    {
      "cell_type": "code",
      "source": [
        "list=[1,11,22,33,\"prabh\",55]\n",
        "for i in range(len(list)) :\n",
        "  print(list[i])"
      ],
      "metadata": {
        "colab": {
          "base_uri": "https://localhost:8080/"
        },
        "id": "fWKewVhOGxbF",
        "outputId": "7e1610d2-2a35-45cc-a763-d2f0a4d993bf"
      },
      "execution_count": 54,
      "outputs": [
        {
          "output_type": "stream",
          "name": "stdout",
          "text": [
            "1\n",
            "11\n",
            "22\n",
            "33\n",
            "prabh\n",
            "55\n"
          ]
        }
      ]
    },
    {
      "cell_type": "code",
      "source": [
        "num = [1,2,3,4,5]\n",
        "sum=0\n",
        "for i in range(len(num)):\n",
        "    sum+=num[i]\n",
        "print(sum)"
      ],
      "metadata": {
        "colab": {
          "base_uri": "https://localhost:8080/"
        },
        "id": "c2YeDi4QHGvs",
        "outputId": "a6020c0f-d937-4691-e353-1afeace39d08"
      },
      "execution_count": 55,
      "outputs": [
        {
          "output_type": "stream",
          "name": "stdout",
          "text": [
            "15\n"
          ]
        }
      ]
    },
    {
      "cell_type": "code",
      "source": [
        "num=[1,2,3,4,5]\n",
        "sub=0\n",
        "for i in range(len(num)) :\n",
        "   sub-=num[i]\n",
        "print(sub)"
      ],
      "metadata": {
        "colab": {
          "base_uri": "https://localhost:8080/"
        },
        "id": "8KE042EeHmOG",
        "outputId": "9abe818f-a68a-47a3-b076-d8d5dc44b4c9"
      },
      "execution_count": 56,
      "outputs": [
        {
          "output_type": "stream",
          "name": "stdout",
          "text": [
            "-15\n"
          ]
        }
      ]
    },
    {
      "cell_type": "code",
      "source": [
        "i=1\n",
        "while i<100 :\n",
        "  print(i)\n",
        "  i+=2"
      ],
      "metadata": {
        "colab": {
          "base_uri": "https://localhost:8080/"
        },
        "id": "mVPWO-lZLDwp",
        "outputId": "115221c4-2294-4aa7-a9a9-bcae8ac737b1"
      },
      "execution_count": 57,
      "outputs": [
        {
          "output_type": "stream",
          "name": "stdout",
          "text": [
            "1\n",
            "3\n",
            "5\n",
            "7\n",
            "9\n",
            "11\n",
            "13\n",
            "15\n",
            "17\n",
            "19\n",
            "21\n",
            "23\n",
            "25\n",
            "27\n",
            "29\n",
            "31\n",
            "33\n",
            "35\n",
            "37\n",
            "39\n",
            "41\n",
            "43\n",
            "45\n",
            "47\n",
            "49\n",
            "51\n",
            "53\n",
            "55\n",
            "57\n",
            "59\n",
            "61\n",
            "63\n",
            "65\n",
            "67\n",
            "69\n",
            "71\n",
            "73\n",
            "75\n",
            "77\n",
            "79\n",
            "81\n",
            "83\n",
            "85\n",
            "87\n",
            "89\n",
            "91\n",
            "93\n",
            "95\n",
            "97\n",
            "99\n"
          ]
        }
      ]
    },
    {
      "cell_type": "code",
      "source": [
        "n=int(input( \"enter no. :\" ))\n",
        "for i in range(n,0,-1) :\n",
        "  print(i)"
      ],
      "metadata": {
        "colab": {
          "base_uri": "https://localhost:8080/"
        },
        "id": "mDtrMkVxMTfc",
        "outputId": "b286d7e3-fb16-4e10-d3ee-19c7365f2500"
      },
      "execution_count": 58,
      "outputs": [
        {
          "output_type": "stream",
          "name": "stdout",
          "text": [
            "enter no. :2\n",
            "2\n",
            "1\n"
          ]
        }
      ]
    },
    {
      "cell_type": "code",
      "source": [
        "n=int(input(\"enter no. :\"))\n",
        "sum=0\n",
        "for i in range(n+1) :\n",
        "  if i%2==0:\n",
        "    sum+=i\n",
        "  else:\n",
        "    print(i)\n",
        "print(\"Sum of even numbers is\",sum)"
      ],
      "metadata": {
        "colab": {
          "base_uri": "https://localhost:8080/"
        },
        "id": "oRMdb5vDMrgO",
        "outputId": "aded29c1-3221-4c7c-e51f-75d61623ace2"
      },
      "execution_count": 59,
      "outputs": [
        {
          "output_type": "stream",
          "name": "stdout",
          "text": [
            "enter no. :3\n",
            "1\n",
            "3\n",
            "Sum of even numbers is 2\n"
          ]
        }
      ]
    },
    {
      "cell_type": "code",
      "source": [
        "n=int(input(\"enter the number :\"))\n",
        "for i in range(1,11) :\n",
        "  print(n*i)\n"
      ],
      "metadata": {
        "colab": {
          "base_uri": "https://localhost:8080/"
        },
        "id": "s9Gys1QoNhIO",
        "outputId": "17975950-9528-4983-8931-905cb40ff730"
      },
      "execution_count": 60,
      "outputs": [
        {
          "output_type": "stream",
          "name": "stdout",
          "text": [
            "enter the number :5\n",
            "5\n",
            "10\n",
            "15\n",
            "20\n",
            "25\n",
            "30\n",
            "35\n",
            "40\n",
            "45\n",
            "50\n"
          ]
        }
      ]
    },
    {
      "cell_type": "code",
      "source": [
        "list1=[1,22,33,44,11,66]\n",
        "product=1\n",
        "for i in range(len(list1)) :\n",
        "  product*=list1[i]\n",
        "print(product)"
      ],
      "metadata": {
        "colab": {
          "base_uri": "https://localhost:8080/"
        },
        "id": "dINTEkEAQBQU",
        "outputId": "01cfe5f9-f649-468a-c869-9b5ec316e8d4"
      },
      "execution_count": 61,
      "outputs": [
        {
          "output_type": "stream",
          "name": "stdout",
          "text": [
            "23191344\n"
          ]
        }
      ]
    },
    {
      "cell_type": "code",
      "source": [
        "n=int(input(\"Enter a number :\"))\n",
        "count=0\n",
        "for i in range(n):\n",
        "  if n>0:\n",
        "    n//=10\n",
        "    count+=1\n",
        "\n",
        "print(count)"
      ],
      "metadata": {
        "colab": {
          "base_uri": "https://localhost:8080/"
        },
        "id": "krRHh0g6Rf_P",
        "outputId": "6cd0032a-9142-4d2f-f82b-a7c7c9c7d7c3"
      },
      "execution_count": 62,
      "outputs": [
        {
          "output_type": "stream",
          "name": "stdout",
          "text": [
            "Enter a number :3456\n",
            "4\n"
          ]
        }
      ]
    },
    {
      "cell_type": "code",
      "source": [
        "list2=[11,22,33,109,55,99]\n",
        "largest=list2[0]\n",
        "length=len(list2)-1\n",
        "i=0\n",
        "while i<=length:\n",
        "  if largest<list2[i] :\n",
        "    largest=list2[i]\n",
        "  i+=1\n",
        "print(largest)"
      ],
      "metadata": {
        "colab": {
          "base_uri": "https://localhost:8080/"
        },
        "id": "ik5-50y0byzD",
        "outputId": "ece4790d-0987-493f-d0b4-28e992eea203"
      },
      "execution_count": 63,
      "outputs": [
        {
          "output_type": "stream",
          "name": "stdout",
          "text": [
            "109\n"
          ]
        }
      ]
    },
    {
      "cell_type": "code",
      "source": [
        "list2=[11,22,33,109,1,55,99]\n",
        "smallest=list2[0]\n",
        "length=len(list2)-1\n",
        "i=0\n",
        "while i<=length :\n",
        "  if smallest > list2[i] :\n",
        "    smallest=list2[i]\n",
        "  i+=1\n",
        "print(smallest)"
      ],
      "metadata": {
        "colab": {
          "base_uri": "https://localhost:8080/"
        },
        "id": "gpZdpyT7cEum",
        "outputId": "e131e16a-df9b-4fd5-ed44-ebb26f1ecb1b"
      },
      "execution_count": 64,
      "outputs": [
        {
          "output_type": "stream",
          "name": "stdout",
          "text": [
            "1\n"
          ]
        }
      ]
    },
    {
      "cell_type": "code",
      "source": [
        "a=input(\"enter any string : \")\n",
        "i=0\n",
        "n=len(a)\n",
        "vowels=\"\"\n",
        "consonants=\"\"\n",
        "count_vowels=0\n",
        "count_consonants=0\n",
        "vowle_list=['a','e','i','o','u','A','E','I','O','U']\n",
        "while i<n :\n",
        "  if a[i] in vowle_list:\n",
        "    vowels+=a[i]\n",
        "    count_vowels+=1\n",
        "  else:\n",
        "    consonants+=a[i]\n",
        "    count_consonants+=1\n",
        "  i+=1\n",
        "print(vowels)\n",
        "print(count_vowels)\n",
        "print(consonants)\n",
        "print(count_consonants)\n"
      ],
      "metadata": {
        "colab": {
          "base_uri": "https://localhost:8080/"
        },
        "id": "mof9PYtddol_",
        "outputId": "56324a5a-130f-4091-96b9-b0218d4a0999"
      },
      "execution_count": 65,
      "outputs": [
        {
          "output_type": "stream",
          "name": "stdout",
          "text": [
            "enter any string : prabh\n",
            "a\n",
            "1\n",
            "prbh\n",
            "4\n"
          ]
        }
      ]
    },
    {
      "cell_type": "code",
      "source": [
        "stri=\"bndsg,bfc.\"\n",
        "print(len(stri))"
      ],
      "metadata": {
        "colab": {
          "base_uri": "https://localhost:8080/"
        },
        "id": "GfiLsiZKjYoA",
        "outputId": "a5951afb-5fc8-417a-f851-10e1cf82ba64"
      },
      "execution_count": 66,
      "outputs": [
        {
          "output_type": "stream",
          "name": "stdout",
          "text": [
            "10\n"
          ]
        }
      ]
    },
    {
      "cell_type": "code",
      "source": [
        "n=int(input(\"enter any no.\"))\n",
        "factorial=1\n",
        "i=1\n",
        "while i<=n :\n",
        "  factorial*=i\n",
        "  i+=1\n",
        "print(factorial)"
      ],
      "metadata": {
        "colab": {
          "base_uri": "https://localhost:8080/"
        },
        "id": "yBpjUix8Q9ob",
        "outputId": "3b0f8577-422f-4079-a897-d7fe7d4b5320"
      },
      "execution_count": 67,
      "outputs": [
        {
          "output_type": "stream",
          "name": "stdout",
          "text": [
            "enter any no.5\n",
            "120\n"
          ]
        }
      ]
    },
    {
      "cell_type": "code",
      "source": [
        "a=input(\"enter any string :\")\n",
        "i=0\n",
        "n=len(a)\n",
        "isPallindrome= False\n",
        "while i<n :\n",
        "  if a[i]==a[n-1]:\n",
        "    isPallindrome=True\n",
        "    i+=1\n",
        "    n-=1\n",
        "if isPallindrome==True :\n",
        "  print(\"given string is Pallindrome\")\n",
        "else:\n",
        "  print(\"Given string is not Pallindrome\")"
      ],
      "metadata": {
        "id": "ODLhxlskZuRE",
        "colab": {
          "base_uri": "https://localhost:8080/"
        },
        "outputId": "4d982f49-cd21-4765-a2db-74c369bcf8c4"
      },
      "execution_count": 68,
      "outputs": [
        {
          "output_type": "stream",
          "name": "stdout",
          "text": [
            "enter any string :nitin\n",
            "given string is Pallindrome\n"
          ]
        }
      ]
    },
    {
      "cell_type": "code",
      "source": [],
      "metadata": {
        "id": "vdjIjZkbMpbz"
      },
      "execution_count": 68,
      "outputs": []
    }
  ]
}