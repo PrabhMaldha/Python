{
  "nbformat": 4,
  "nbformat_minor": 0,
  "metadata": {
    "colab": {
      "provenance": []
    },
    "kernelspec": {
      "name": "python3",
      "display_name": "Python 3"
    },
    "language_info": {
      "name": "python"
    }
  },
  "cells": [
    {
      "cell_type": "code",
      "execution_count": null,
      "metadata": {
        "id": "Al1C6AS6BiHO"
      },
      "outputs": [],
      "source": [
        "'''Question 1 two variables and b having integer values.\n",
        "use Arithmetic Operators'''\n",
        "a=12\n",
        "b=30"
      ]
    },
    {
      "cell_type": "code",
      "source": [
        "#sum of a And b\n",
        "print(a+b)"
      ],
      "metadata": {
        "colab": {
          "base_uri": "https://localhost:8080/"
        },
        "id": "sHn9hN4rI77y",
        "outputId": "a0837bd1-536b-46be-d324-18f042ac15f5"
      },
      "execution_count": null,
      "outputs": [
        {
          "output_type": "stream",
          "name": "stdout",
          "text": [
            "42\n"
          ]
        }
      ]
    },
    {
      "cell_type": "code",
      "source": [
        "#difference of a and b\n",
        "print(a-b)"
      ],
      "metadata": {
        "colab": {
          "base_uri": "https://localhost:8080/"
        },
        "id": "liRbwpHtJHx_",
        "outputId": "565eb682-2587-42f8-bb35-3e16c82a8717"
      },
      "execution_count": null,
      "outputs": [
        {
          "output_type": "stream",
          "name": "stdout",
          "text": [
            "-18\n"
          ]
        }
      ]
    },
    {
      "cell_type": "code",
      "source": [
        "#product of a and b\n",
        "print(a*b)"
      ],
      "metadata": {
        "colab": {
          "base_uri": "https://localhost:8080/"
        },
        "id": "4UF5ucU5JPn9",
        "outputId": "c9f2cab4-ec74-4aa8-97df-1b2784e8ff46"
      },
      "execution_count": null,
      "outputs": [
        {
          "output_type": "stream",
          "name": "stdout",
          "text": [
            "360\n"
          ]
        }
      ]
    },
    {
      "cell_type": "code",
      "source": [
        "#quotient of a and b(floor division)\n",
        "print(b//a)"
      ],
      "metadata": {
        "colab": {
          "base_uri": "https://localhost:8080/"
        },
        "id": "QaUkvoPwJXGr",
        "outputId": "e9b35ae6-938c-48ea-b3d1-6614f9f9d04a"
      },
      "execution_count": null,
      "outputs": [
        {
          "output_type": "stream",
          "name": "stdout",
          "text": [
            "2\n"
          ]
        }
      ]
    },
    {
      "cell_type": "code",
      "source": [
        "'''Question 2 Given a variable x containing an integer value\n",
        "use the modulus to check if variable is even or odd'''\n",
        "#odd\n",
        "x=15\n",
        "print(x%2)"
      ],
      "metadata": {
        "colab": {
          "base_uri": "https://localhost:8080/"
        },
        "id": "s9LrZdnaJixi",
        "outputId": "4c633c7a-e8be-4cbd-e412-918bbd63f858"
      },
      "execution_count": null,
      "outputs": [
        {
          "output_type": "stream",
          "name": "stdout",
          "text": [
            "1\n"
          ]
        }
      ]
    },
    {
      "cell_type": "code",
      "source": [
        "#even\n",
        "print(a%2)"
      ],
      "metadata": {
        "colab": {
          "base_uri": "https://localhost:8080/"
        },
        "id": "cwQGqAuDLZnu",
        "outputId": "4d86d47b-43ef-4445-d21d-06ac07f6ff77"
      },
      "execution_count": null,
      "outputs": [
        {
          "output_type": "stream",
          "name": "stdout",
          "text": [
            "0\n"
          ]
        }
      ]
    },
    {
      "cell_type": "code",
      "source": [
        "''' 3 Use comparison operators\n",
        " to check if a is greater than b'''\n",
        "print(a<b)"
      ],
      "metadata": {
        "colab": {
          "base_uri": "https://localhost:8080/"
        },
        "id": "VgGDzxzmL27B",
        "outputId": "aba86c74-938b-4df8-b73d-cf00e178b7c6"
      },
      "execution_count": null,
      "outputs": [
        {
          "output_type": "stream",
          "name": "stdout",
          "text": [
            "True\n"
          ]
        }
      ]
    },
    {
      "cell_type": "code",
      "source": [
        "print(a>b)"
      ],
      "metadata": {
        "colab": {
          "base_uri": "https://localhost:8080/"
        },
        "id": "FOOcuK06PZEC",
        "outputId": "0149a8ba-f85f-453e-893a-ed693a429ac3"
      },
      "execution_count": null,
      "outputs": [
        {
          "output_type": "stream",
          "name": "stdout",
          "text": [
            "False\n"
          ]
        }
      ]
    },
    {
      "cell_type": "code",
      "source": [
        "print(a==b)"
      ],
      "metadata": {
        "colab": {
          "base_uri": "https://localhost:8080/"
        },
        "id": "fI7kkA8RPffP",
        "outputId": "dd78a1e0-897d-4014-81df-09c98e0aaebf"
      },
      "execution_count": null,
      "outputs": [
        {
          "output_type": "stream",
          "name": "stdout",
          "text": [
            "False\n"
          ]
        }
      ]
    },
    {
      "cell_type": "code",
      "source": [
        "print(a!=b)"
      ],
      "metadata": {
        "colab": {
          "base_uri": "https://localhost:8080/"
        },
        "id": "J9NwTHV6Pmfk",
        "outputId": "c63cf5ec-aba9-40ca-b5df-7e175538e5b2"
      },
      "execution_count": null,
      "outputs": [
        {
          "output_type": "stream",
          "name": "stdout",
          "text": [
            "True\n"
          ]
        }
      ]
    },
    {
      "cell_type": "code",
      "source": [
        "print(a>=b)"
      ],
      "metadata": {
        "colab": {
          "base_uri": "https://localhost:8080/"
        },
        "id": "dj8mWV1gPrYZ",
        "outputId": "790a87aa-81f9-47a4-8f7a-3a30ab996b6e"
      },
      "execution_count": null,
      "outputs": [
        {
          "output_type": "stream",
          "name": "stdout",
          "text": [
            "False\n"
          ]
        }
      ]
    },
    {
      "cell_type": "code",
      "source": [
        "print(a<=b)"
      ],
      "metadata": {
        "colab": {
          "base_uri": "https://localhost:8080/"
        },
        "id": "MZGdQNfrPvYo",
        "outputId": "5478f8ae-bf87-4f16-c39b-b608933bef8c"
      },
      "execution_count": null,
      "outputs": [
        {
          "output_type": "stream",
          "name": "stdout",
          "text": [
            "True\n"
          ]
        }
      ]
    },
    {
      "cell_type": "code",
      "source": [
        "''' 4. given two boolean variables p and q\n",
        "use logical operators'''\n",
        "p=True\n",
        "q=False\n",
        "r= True\n",
        "result = (p and q)\n",
        "result1 = (p and r)\n",
        "print (result)\n",
        "print(result1)"
      ],
      "metadata": {
        "colab": {
          "base_uri": "https://localhost:8080/"
        },
        "id": "Q3dPJm0qPzlU",
        "outputId": "f31e7a4c-3a77-4b42-f5d8-82dd6a99303d"
      },
      "execution_count": null,
      "outputs": [
        {
          "output_type": "stream",
          "name": "stdout",
          "text": [
            "False\n",
            "True\n"
          ]
        }
      ]
    },
    {
      "cell_type": "code",
      "source": [
        "print(p or q)"
      ],
      "metadata": {
        "colab": {
          "base_uri": "https://localhost:8080/"
        },
        "id": "3rlh_v0_QhTK",
        "outputId": "d331f272-8dad-4b8d-cd9a-71aa7ab7f47c"
      },
      "execution_count": null,
      "outputs": [
        {
          "output_type": "stream",
          "name": "stdout",
          "text": [
            "True\n"
          ]
        }
      ]
    },
    {
      "cell_type": "code",
      "source": [
        "print(not p)"
      ],
      "metadata": {
        "colab": {
          "base_uri": "https://localhost:8080/"
        },
        "id": "i3EpSxdPQ7Qb",
        "outputId": "8664006a-022d-44bb-d55d-19cd0bbb7c34"
      },
      "execution_count": null,
      "outputs": [
        {
          "output_type": "stream",
          "name": "stdout",
          "text": [
            "False\n"
          ]
        }
      ]
    },
    {
      "cell_type": "code",
      "source": [
        "'''5. having variable n containing integer value\n",
        "use Bitwise operator  And ,or ,xor to perform with another variable m'''\n",
        "n=40\n",
        "m=60\n",
        "#And\n",
        "print(n & m)"
      ],
      "metadata": {
        "colab": {
          "base_uri": "https://localhost:8080/"
        },
        "id": "IIQ_hxfqQ-z8",
        "outputId": "7f9f3e4d-e706-4f6b-9b4e-21797a8dc64d"
      },
      "execution_count": null,
      "outputs": [
        {
          "output_type": "stream",
          "name": "stdout",
          "text": [
            "40\n"
          ]
        }
      ]
    },
    {
      "cell_type": "code",
      "source": [
        "#Or\n",
        "print(n|m)"
      ],
      "metadata": {
        "colab": {
          "base_uri": "https://localhost:8080/"
        },
        "id": "S_dd3uqCSM0T",
        "outputId": "976e4929-16cd-4e50-e0e7-7aa8cf3d9159"
      },
      "execution_count": null,
      "outputs": [
        {
          "output_type": "stream",
          "name": "stdout",
          "text": [
            "60\n"
          ]
        }
      ]
    },
    {
      "cell_type": "code",
      "source": [
        "#Xor\n",
        "print(n^m)"
      ],
      "metadata": {
        "colab": {
          "base_uri": "https://localhost:8080/"
        },
        "id": "GYqK-4fsTzFQ",
        "outputId": "aaadec8a-0460-4797-b96d-65d5ea0c297c"
      },
      "execution_count": null,
      "outputs": [
        {
          "output_type": "stream",
          "name": "stdout",
          "text": [
            "20\n"
          ]
        }
      ]
    },
    {
      "cell_type": "code",
      "source": [
        "'''6. given a variable y containing floating point number\n",
        "use floor  division to divide y by 2'''\n",
        "y=12.45\n",
        "print(y//2)"
      ],
      "metadata": {
        "colab": {
          "base_uri": "https://localhost:8080/"
        },
        "id": "7erij-H5UI3S",
        "outputId": "28a1430d-275b-4116-e4fe-89dafc41887d"
      },
      "execution_count": null,
      "outputs": [
        {
          "output_type": "stream",
          "name": "stdout",
          "text": [
            "6.0\n"
          ]
        }
      ]
    },
    {
      "cell_type": "code",
      "source": [
        "'''7.Two strings str1 and str2\n",
        "use the concatenation operator to join these strings'''\n",
        "str1 =\"Prabhjot\"\n",
        "str2=\" kaur\"\n",
        "print(str1+str2)"
      ],
      "metadata": {
        "id": "3anbyKpDU4ef",
        "colab": {
          "base_uri": "https://localhost:8080/"
        },
        "outputId": "7731802c-9491-42a9-c4ad-ee8890b24f25"
      },
      "execution_count": null,
      "outputs": [
        {
          "output_type": "stream",
          "name": "stdout",
          "text": [
            "Prabhjot kaur\n"
          ]
        }
      ]
    },
    {
      "cell_type": "code",
      "source": [
        "'''8. given a variable z containing an integer\n",
        " use increment operator to increase its value by 1'''\n",
        "z=17\n",
        "z+=1\n",
        "print(z)"
      ],
      "metadata": {
        "colab": {
          "base_uri": "https://localhost:8080/"
        },
        "id": "N2i469btBxEL",
        "outputId": "c29eb68c-e3ff-45e3-9141-82f13e256690"
      },
      "execution_count": null,
      "outputs": [
        {
          "output_type": "stream",
          "name": "stdout",
          "text": [
            "18\n"
          ]
        }
      ]
    },
    {
      "cell_type": "code",
      "source": [
        "'''9. you have a list my_list and a value val.\n",
        " use the in operator to check if value is present in my_list'''\n",
        "my_list=[1,2,\"val\",\"prabh\",3,4]\n",
        "print(\"val\"in my_list)"
      ],
      "metadata": {
        "colab": {
          "base_uri": "https://localhost:8080/"
        },
        "id": "HZBiEjjXCXVj",
        "outputId": "4b23a78f-b08b-4247-c18c-5ee8062f5d41"
      },
      "execution_count": null,
      "outputs": [
        {
          "output_type": "stream",
          "name": "stdout",
          "text": [
            "True\n"
          ]
        }
      ]
    },
    {
      "cell_type": "code",
      "source": [
        "'''10. Given two variables a and b use Assignment operator\n",
        "to assign the value of a to b'''\n",
        "a=12\n",
        "b=30\n",
        "b=a\n",
        "print(a)"
      ],
      "metadata": {
        "colab": {
          "base_uri": "https://localhost:8080/"
        },
        "id": "vcj9Si8LfIAs",
        "outputId": "7fa97eb7-83d4-4ba2-c4c0-fecb308bca05"
      },
      "execution_count": null,
      "outputs": [
        {
          "output_type": "stream",
          "name": "stdout",
          "text": [
            "12\n"
          ]
        }
      ]
    },
    {
      "cell_type": "code",
      "source": [
        "''' 11 you have two variables x and y containing integer\n",
        " values. use compound assignment operator to add y to x'''\n",
        "x=12\n",
        "y=30\n",
        "x+=y\n",
        "print(x)"
      ],
      "metadata": {
        "colab": {
          "base_uri": "https://localhost:8080/"
        },
        "id": "yQFuJhkQ2NQe",
        "outputId": "20dfe6b7-dcba-4a9a-d9b1-ed4c82ec0e9d"
      },
      "execution_count": null,
      "outputs": [
        {
          "output_type": "stream",
          "name": "stdout",
          "text": [
            "42\n"
          ]
        }
      ]
    },
    {
      "cell_type": "code",
      "source": [
        "''' 12 given a variable num containing integer value\n",
        "use bitwise left shift operator to shift by 2'''\n",
        "num=20\n",
        "print(num<<2)"
      ],
      "metadata": {
        "colab": {
          "base_uri": "https://localhost:8080/"
        },
        "id": "IVBgG18mf21S",
        "outputId": "84e204bf-bfb6-46d8-d9e8-a711ba4d69ce"
      },
      "execution_count": null,
      "outputs": [
        {
          "output_type": "stream",
          "name": "stdout",
          "text": [
            "80\n"
          ]
        }
      ]
    },
    {
      "cell_type": "code",
      "source": [
        "''' 13 . you have a string text and an integer n use the repetition operator to repeat text n times'''\n",
        "text=\"Prabhjot\"\n",
        "n=5\n",
        "print(text*n)"
      ],
      "metadata": {
        "colab": {
          "base_uri": "https://localhost:8080/"
        },
        "id": "2xSOUq7E2q5g",
        "outputId": "ad5121b8-5243-42c3-f1ce-fea6ff5e05af"
      },
      "execution_count": null,
      "outputs": [
        {
          "output_type": "stream",
          "name": "stdout",
          "text": [
            "PrabhjotPrabhjotPrabhjotPrabhjotPrabhjot\n"
          ]
        }
      ]
    },
    {
      "cell_type": "code",
      "source": [
        "'''14. given two variables  a and b\n",
        "use  comparison operator to check if a is equal to b and if a is not equal to b'''\n",
        "a=12\n",
        "b=30\n",
        "print(a==b)\n",
        "print(a!=b)"
      ],
      "metadata": {
        "colab": {
          "base_uri": "https://localhost:8080/"
        },
        "id": "RO3IVoLF3FD6",
        "outputId": "57f57599-e3fd-47e2-c911-def63c4ebefb"
      },
      "execution_count": null,
      "outputs": [
        {
          "output_type": "stream",
          "name": "stdout",
          "text": [
            "False\n",
            "True\n"
          ]
        }
      ]
    },
    {
      "cell_type": "code",
      "source": [
        "'''15 given two variables x and y use\n",
        "bitwse Right shift operator to shift by 3 bits'''\n",
        "x=15\n",
        "y=30\n",
        "print(x>>3)"
      ],
      "metadata": {
        "colab": {
          "base_uri": "https://localhost:8080/"
        },
        "id": "YaGV3aUbhVUB",
        "outputId": "091c84b4-673d-4f8f-d72b-449f95a23df9"
      },
      "execution_count": null,
      "outputs": [
        {
          "output_type": "stream",
          "name": "stdout",
          "text": [
            "1\n"
          ]
        }
      ]
    },
    {
      "cell_type": "code",
      "source": [
        "''' 16 given a boolean variable flag\n",
        "use logical operator to check if flag is true'''\n",
        "flag=True\n",
        "print(flag==True or flag == False)"
      ],
      "metadata": {
        "colab": {
          "base_uri": "https://localhost:8080/"
        },
        "id": "8lwkJfYDiNcl",
        "outputId": "19abdb76-3790-4c82-aa81-ca59504088ec"
      },
      "execution_count": null,
      "outputs": [
        {
          "output_type": "stream",
          "name": "stdout",
          "text": [
            "True\n"
          ]
        }
      ]
    },
    {
      "cell_type": "code",
      "source": [
        "'''17 you have a variable price containing float value\n",
        "use floor division to calculate how many whole units you can get'''\n",
        "price= 455.78\n",
        "print(price//5)"
      ],
      "metadata": {
        "colab": {
          "base_uri": "https://localhost:8080/"
        },
        "id": "VCsQs9RAkkG9",
        "outputId": "e907ad43-3c87-4101-ad7f-19b02fc0e176"
      },
      "execution_count": null,
      "outputs": [
        {
          "output_type": "stream",
          "name": "stdout",
          "text": [
            "91.0\n"
          ]
        }
      ]
    },
    {
      "cell_type": "code",
      "source": [
        "'''18. given two sets set1 and set2 use the union operator to combine them'''\n",
        "set1={22,33,44,55}\n",
        "set2={11,22,33,66,77,88}\n",
        "print(set1.union(set2))"
      ],
      "metadata": {
        "colab": {
          "base_uri": "https://localhost:8080/"
        },
        "id": "hgs__0R83znm",
        "outputId": "8bf149c7-d0c7-49c8-91c5-54960451c505"
      },
      "execution_count": null,
      "outputs": [
        {
          "output_type": "stream",
          "name": "stdout",
          "text": [
            "{33, 66, 11, 44, 77, 22, 55, 88}\n"
          ]
        }
      ]
    },
    {
      "cell_type": "code",
      "source": [
        "''' 20 .given two variables a and b use comparison\n",
        "operators to check if a is less than or equal to b'''\n",
        "a=12\n",
        "b=30\n",
        "print(a<=b)"
      ],
      "metadata": {
        "colab": {
          "base_uri": "https://localhost:8080/"
        },
        "id": "JzXhuMB1mAQc",
        "outputId": "01f0e957-063d-44ac-ea11-f733904894fd"
      },
      "execution_count": null,
      "outputs": [
        {
          "output_type": "stream",
          "name": "stdout",
          "text": [
            "True\n"
          ]
        }
      ]
    },
    {
      "cell_type": "code",
      "source": [
        "''' 21. you have  a string s and character c  use the in operator to check if c is present in s'''\n",
        "s=\"Prabhjot\"\n",
        "\n",
        "print(\"c\" in s)"
      ],
      "metadata": {
        "colab": {
          "base_uri": "https://localhost:8080/"
        },
        "id": "tCy5BTqG4Z-a",
        "outputId": "70357277-548c-405e-9aee-14a8066c7b64"
      },
      "execution_count": null,
      "outputs": [
        {
          "output_type": "stream",
          "name": "stdout",
          "text": [
            "False\n"
          ]
        }
      ]
    },
    {
      "cell_type": "code",
      "source": [
        "'''22. given a variable num containing\n",
        "an integer value use bitwise not to invert its bits'''\n",
        "num=20\n",
        "print(~(num))\n"
      ],
      "metadata": {
        "colab": {
          "base_uri": "https://localhost:8080/"
        },
        "id": "t8qnZ-opnc-X",
        "outputId": "66302558-50ad-4da0-a592-c0a7239dca82"
      },
      "execution_count": null,
      "outputs": [
        {
          "output_type": "stream",
          "name": "stdout",
          "text": [
            "-21\n"
          ]
        }
      ]
    },
    {
      "cell_type": "code",
      "source": [
        "''' 23. you have a list numbers and a value x .use\n",
        "the multiplication operator to multiply each element in the list by x '''\n",
        "numbers=[1,2,3,4,5]\n",
        "x=3\n",
        "print(numbers*x)"
      ],
      "metadata": {
        "colab": {
          "base_uri": "https://localhost:8080/"
        },
        "id": "rY50VOCs45hF",
        "outputId": "fd34516e-b663-4a4b-8aae-129a4ea141cb"
      },
      "execution_count": null,
      "outputs": [
        {
          "output_type": "stream",
          "name": "stdout",
          "text": [
            "[1, 2, 3, 4, 5, 1, 2, 3, 4, 5, 1, 2, 3, 4, 5]\n"
          ]
        }
      ]
    },
    {
      "cell_type": "code",
      "source": [
        "''' 24. given two variables a and b use\n",
        "logical operator to evaluate a And not b'''\n",
        "a1=True\n",
        "b1=False\n",
        "print(a1 and not b1)"
      ],
      "metadata": {
        "colab": {
          "base_uri": "https://localhost:8080/"
        },
        "id": "jk4whWyZn9H2",
        "outputId": "c3b6323f-4b6e-494c-acde-61f9c12f4a69"
      },
      "execution_count": null,
      "outputs": [
        {
          "output_type": "stream",
          "name": "stdout",
          "text": [
            "True\n"
          ]
        }
      ]
    },
    {
      "cell_type": "code",
      "source": [
        "''' 25. given two variable\n",
        " modulus operator to find the remainder'''\n",
        "c=15\n",
        "d=4\n",
        "print(c%d)"
      ],
      "metadata": {
        "colab": {
          "base_uri": "https://localhost:8080/"
        },
        "id": "kfsT6cgypzgu",
        "outputId": "637657a6-8f80-462d-e741-7c67f8b939a2"
      },
      "execution_count": null,
      "outputs": [
        {
          "output_type": "stream",
          "name": "stdout",
          "text": [
            "3\n"
          ]
        }
      ]
    },
    {
      "cell_type": "code",
      "source": [
        "'''  26. given a variable t\n",
        "use exponentiation operator to calculate t raised to power 3'''\n",
        "t=10\n",
        "print(t**3)\n"
      ],
      "metadata": {
        "colab": {
          "base_uri": "https://localhost:8080/"
        },
        "id": "_ZiUWTdSq9NW",
        "outputId": "4c388cae-a500-4f26-d264-0c464c4c9ec5"
      },
      "execution_count": null,
      "outputs": [
        {
          "output_type": "stream",
          "name": "stdout",
          "text": [
            "1000\n"
          ]
        }
      ]
    },
    {
      "cell_type": "code",
      "source": [
        "''' 27. you have a string str1 and an integer n. use the slicing to get the first n characters of the string'''\n",
        "str1= \"Computer science\"\n",
        "n=4\n",
        "print(str1[:5])"
      ],
      "metadata": {
        "id": "r8wGXdDVrXLh",
        "colab": {
          "base_uri": "https://localhost:8080/"
        },
        "outputId": "8858b851-8d38-4e56-c8de-a58eb75b3c95"
      },
      "execution_count": null,
      "outputs": [
        {
          "output_type": "stream",
          "name": "stdout",
          "text": [
            "Compu\n"
          ]
        }
      ]
    },
    {
      "cell_type": "code",
      "source": [
        "'''28. given two lists, list1 and list2 use concatentaion operator to merge these two'''\n",
        "list1=[\"prabh\",11,22,\"computer\",\"python\"]\n",
        "list2=[\"science\",33,44,\"jot\"]\n",
        "print(list1 + list2)"
      ],
      "metadata": {
        "colab": {
          "base_uri": "https://localhost:8080/"
        },
        "id": "K6-K4K4P7Cpg",
        "outputId": "1c804c37-34b7-4f9f-a07f-485a40d75be0"
      },
      "execution_count": null,
      "outputs": [
        {
          "output_type": "stream",
          "name": "stdout",
          "text": [
            "['prabh', 11, 22, 'computer', 'python', 'science', 33, 44, 'jot']\n"
          ]
        }
      ]
    },
    {
      "cell_type": "code",
      "source": [
        "'''30. given a variable x containing an integer use decrement operator to decrease its value by 1'''\n",
        "x=12\n",
        "x-=1\n",
        "print(x)"
      ],
      "metadata": {
        "colab": {
          "base_uri": "https://localhost:8080/"
        },
        "id": "Yg3Ekanw7km0",
        "outputId": "8b27a993-506d-4caa-9f3d-cc0406f86eba"
      },
      "execution_count": null,
      "outputs": [
        {
          "output_type": "stream",
          "name": "stdout",
          "text": [
            "11\n"
          ]
        }
      ]
    },
    {
      "cell_type": "code",
      "source": [],
      "metadata": {
        "id": "IP_cKF697366"
      },
      "execution_count": null,
      "outputs": []
    }
  ]
}